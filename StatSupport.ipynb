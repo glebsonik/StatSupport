{
 "cells": [
  {
   "cell_type": "markdown",
   "id": "genetic-voltage",
   "metadata": {},
   "source": [
    "# Statisitcal data analysis system"
   ]
  },
  {
   "cell_type": "markdown",
   "id": "animated-decrease",
   "metadata": {},
   "source": [
    "## First steps and guide\n",
    "To use this system you can execute cells down below and it will calculate statistical data described in text cell above it. Some features may provide you with diagrams and tables\n",
    "\n",
    "## Import of main dependencies\n",
    "First block will connect main dependencies to the system and add file from specified path as a `DATA_DIR`. In the next cell you can add file name that should be located in the direcotry specified in `DATA_DIR`"
   ]
  },
  {
   "cell_type": "code",
   "execution_count": 1,
   "id": "tropical-consent",
   "metadata": {},
   "outputs": [],
   "source": [
    "import pandas as pd\n",
    "import scipy as scp\n",
    "import copy\n",
    "from IPython.core.display import HTML\n",
    "from Core.FeaturesModel import FeaturesModel\n",
    "from functools import reduce\n",
    "from IPython.display import clear_output\n",
    "from ipywidgets import interact, interactive\n",
    "\n",
    "import matplotlib.pyplot as plt\n",
    "from ipywidgets import widgets\n",
    "from IPython.display import display\n",
    "from UI.ConverterUI import ConverterUI\n",
    "\n",
    "# from scipy.stats import spearmanr\n",
    "DATA_DIR = \"data/\""
   ]
  },
  {
   "cell_type": "markdown",
   "id": "prospective-ridge",
   "metadata": {},
   "source": [
    "## Raw data representation\n",
    "Add file with support format into the system and view its raw represenrtion. All parsing parameters refer to the Python Pandas lib. If there is a need, you can easily drop unnecessary columns:\n",
    "```pyton\n",
    "data = data[data.columns.drop(list(data.filter(regex='Unnamed')))] # Drops unnamed columns\n",
    "data = data.drop(['Column_1_Name', 'Column_2_Name'], 1) # Drops columns by their name\n",
    "```"
   ]
  },
  {
   "cell_type": "code",
   "execution_count": 2,
   "id": "improved-clearing",
   "metadata": {},
   "outputs": [
    {
     "name": "stdout",
     "output_type": "stream",
     "text": [
      "===-=-=-=-=-=  {1: 1, 2: 2, 3: 3, 4: 4, 5: 5, 6: 6, 7: 7, 8: 8, 9: 9, 10: 10, 11: 11, 12: 12, 13: 13, 14: 14, 15: 15, 16: 16, 17: 17, 18: 18, 19: 19, 20: 20, 21: 21, 22: 22, 23: 23, 24: 24, 25: 25, 26: 26, 27: 27, 28: 28, 29: 29, 30: 30, 31: 31, 32: 32, 33: 33, 34: 34, 35: 35, 36: 36, 37: 37, 38: 38, 39: 39, 40: 40, 41: 41, 42: 42, 43: 43, 44: 44, 45: 45, 46: 46, 47: 47, 48: 48, 49: 49, 50: 50, 51: 51, 52: 52, 53: 53, 54: 54, 55: 55, 56: 56, 57: 57, 58: 58, 59: 59, 60: 60, 61: 61, 62: 62, 63: 63, 64: 64, 65: 65, 66: 66, 67: 67, 68: 68, 69: 69, 70: 70, 71: 71, 72: 72, 73: 73, 74: 74, 75: 75, 76: 76, 77: 77, 78: 78, 79: 79, 80: 80, 81: 81, 82: 82, 83: 83, 84: 84, 85: 85, 86: 86, 87: 87, 88: 88, 89: 89, 90: 90, 91: 91, 92: 92, 93: 93, 94: 94, 95: 95, 96: 96, 97: 97, 98: 98, 99: 99, 100: 100, 101: 101, 102: 102, 103: 103, 104: 104, 105: 105, 106: 106, 107: 107, 108: 108, 109: 109, 110: 110, 111: 111, 112: 112, 113: 113, 114: 114, 115: 115, 116: 116, 117: 117, 118: 118, 119: 119, 120: 120, 121: 121, 122: 122, 123: 123, 124: 124, 125: 125, 126: 126, 127: 127, 128: 128, 129: 129, 130: 130, 131: 131, 132: 132, 133: 133, 134: 134, 135: 135, 136: 136, 137: 137, 138: 138, 139: 139, 140: 140, 141: 141, 142: 142, 143: 143, 144: 144, 145: 145, 146: 146, 147: 147, 148: 148, 149: 149, 150: 150, 151: 151, 152: 152, 153: 153, 154: 154, 155: 155, 156: 156, 157: 157, 158: 158, 159: 159, 160: 160, 161: 161, 162: 162, 163: 163, 164: 164, 165: 165, 166: 166, 167: 167, 168: 168, 169: 169, 170: 170, 171: 171, 172: 172, 173: 173, 174: 174, 175: 175, 176: 176, 177: 177, 178: 178, 179: 179, 180: 180, 181: 181, 182: 182, 183: 183, 184: 184, 185: 185, 186: 186, 187: 187, 188: 188, 189: 189, 190: 190, 191: 191, 192: 192, 193: 193, 194: 194, 195: 195, 196: 196, 197: 197, 198: 198, 199: 199, 200: 200}\n",
      "Creating:  CustomerID  =====***======\n",
      " [1, 2, 3, 4, 5, 6, 7, 8, 9, 10, 11, 12, 13, 14, 15, 16, 17, 18, 19, 20, 21, 22, 23, 24, 25, 26, 27, 28, 29, 30, 31, 32, 33, 34, 35, 36, 37, 38, 39, 40, 41, 42, 43, 44, 45, 46, 47, 48, 49, 50, 51, 52, 53, 54, 55, 56, 57, 58, 59, 60, 61, 62, 63, 64, 65, 66, 67, 68, 69, 70, 71, 72, 73, 74, 75, 76, 77, 78, 79, 80, 81, 82, 83, 84, 85, 86, 87, 88, 89, 90, 91, 92, 93, 94, 95, 96, 97, 98, 99, 100, 101, 102, 103, 104, 105, 106, 107, 108, 109, 110, 111, 112, 113, 114, 115, 116, 117, 118, 119, 120, 121, 122, 123, 124, 125, 126, 127, 128, 129, 130, 131, 132, 133, 134, 135, 136, 137, 138, 139, 140, 141, 142, 143, 144, 145, 146, 147, 148, 149, 150, 151, 152, 153, 154, 155, 156, 157, 158, 159, 160, 161, 162, 163, 164, 165, 166, 167, 168, 169, 170, 171, 172, 173, 174, 175, 176, 177, 178, 179, 180, 181, 182, 183, 184, 185, 186, 187, 188, 189, 190, 191, 192, 193, 194, 195, 196, 197, 198, 199, 200] ****====_____\n",
      " {1: 1, 2: 2, 3: 3, 4: 4, 5: 5, 6: 6, 7: 7, 8: 8, 9: 9, 10: 10, 11: 11, 12: 12, 13: 13, 14: 14, 15: 15, 16: 16, 17: 17, 18: 18, 19: 19, 20: 20, 21: 21, 22: 22, 23: 23, 24: 24, 25: 25, 26: 26, 27: 27, 28: 28, 29: 29, 30: 30, 31: 31, 32: 32, 33: 33, 34: 34, 35: 35, 36: 36, 37: 37, 38: 38, 39: 39, 40: 40, 41: 41, 42: 42, 43: 43, 44: 44, 45: 45, 46: 46, 47: 47, 48: 48, 49: 49, 50: 50, 51: 51, 52: 52, 53: 53, 54: 54, 55: 55, 56: 56, 57: 57, 58: 58, 59: 59, 60: 60, 61: 61, 62: 62, 63: 63, 64: 64, 65: 65, 66: 66, 67: 67, 68: 68, 69: 69, 70: 70, 71: 71, 72: 72, 73: 73, 74: 74, 75: 75, 76: 76, 77: 77, 78: 78, 79: 79, 80: 80, 81: 81, 82: 82, 83: 83, 84: 84, 85: 85, 86: 86, 87: 87, 88: 88, 89: 89, 90: 90, 91: 91, 92: 92, 93: 93, 94: 94, 95: 95, 96: 96, 97: 97, 98: 98, 99: 99, 100: 100, 101: 101, 102: 102, 103: 103, 104: 104, 105: 105, 106: 106, 107: 107, 108: 108, 109: 109, 110: 110, 111: 111, 112: 112, 113: 113, 114: 114, 115: 115, 116: 116, 117: 117, 118: 118, 119: 119, 120: 120, 121: 121, 122: 122, 123: 123, 124: 124, 125: 125, 126: 126, 127: 127, 128: 128, 129: 129, 130: 130, 131: 131, 132: 132, 133: 133, 134: 134, 135: 135, 136: 136, 137: 137, 138: 138, 139: 139, 140: 140, 141: 141, 142: 142, 143: 143, 144: 144, 145: 145, 146: 146, 147: 147, 148: 148, 149: 149, 150: 150, 151: 151, 152: 152, 153: 153, 154: 154, 155: 155, 156: 156, 157: 157, 158: 158, 159: 159, 160: 160, 161: 161, 162: 162, 163: 163, 164: 164, 165: 165, 166: 166, 167: 167, 168: 168, 169: 169, 170: 170, 171: 171, 172: 172, 173: 173, 174: 174, 175: 175, 176: 176, 177: 177, 178: 178, 179: 179, 180: 180, 181: 181, 182: 182, 183: 183, 184: 184, 185: 185, 186: 186, 187: 187, 188: 188, 189: 189, 190: 190, 191: 191, 192: 192, 193: 193, 194: 194, 195: 195, 196: 196, 197: 197, 198: 198, 199: 199, 200: 200}\n",
      "===-=-=-=-=-=  None\n",
      "===-=-=-=-=-=  {19: 19, 21: 21, 20: 20, 23: 23, 31: 31, 22: 22, 35: 35, 64: 64, 30: 30, 67: 67, 58: 58, 24: 24, 37: 37, 52: 52, 25: 25, 46: 46, 54: 54, 29: 29, 45: 45, 40: 40, 60: 60, 53: 53, 18: 18, 49: 49, 42: 42, 36: 36, 65: 65, 48: 48, 50: 50, 27: 27, 33: 33, 59: 59, 47: 47, 51: 51, 69: 69, 70: 70, 63: 63, 43: 43, 68: 68, 32: 32, 26: 26, 57: 57, 38: 38, 55: 55, 34: 34, 66: 66, 39: 39, 44: 44, 28: 28, 56: 56, 41: 41}\n",
      "Creating:  Age  =====***======\n",
      " [19, 21, 20, 23, 31, 22, 35, 23, 64, 30, 67, 35, 58, 24, 37, 22, 35, 20, 52, 35, 35, 25, 46, 31, 54, 29, 45, 35, 40, 23, 60, 21, 53, 18, 49, 21, 42, 30, 36, 20, 65, 24, 48, 31, 49, 24, 50, 27, 29, 31, 49, 33, 31, 59, 50, 47, 51, 69, 27, 53, 70, 19, 67, 54, 63, 18, 43, 68, 19, 32, 70, 47, 60, 60, 59, 26, 45, 40, 23, 49, 57, 38, 67, 46, 21, 48, 55, 22, 34, 50, 68, 18, 48, 40, 32, 24, 47, 27, 48, 20, 23, 49, 67, 26, 49, 21, 66, 54, 68, 66, 65, 19, 38, 19, 18, 19, 63, 49, 51, 50, 27, 38, 40, 39, 23, 31, 43, 40, 59, 38, 47, 39, 25, 31, 20, 29, 44, 32, 19, 35, 57, 32, 28, 32, 25, 28, 48, 32, 34, 34, 43, 39, 44, 38, 47, 27, 37, 30, 34, 30, 56, 29, 19, 31, 50, 36, 42, 33, 36, 32, 40, 28, 36, 36, 52, 30, 58, 27, 59, 35, 37, 32, 46, 29, 41, 30, 54, 28, 41, 36, 34, 32, 33, 38, 47, 35, 45, 32, 32, 30] ****====_____\n",
      " {19: 19, 21: 21, 20: 20, 23: 23, 31: 31, 22: 22, 35: 35, 64: 64, 30: 30, 67: 67, 58: 58, 24: 24, 37: 37, 52: 52, 25: 25, 46: 46, 54: 54, 29: 29, 45: 45, 40: 40, 60: 60, 53: 53, 18: 18, 49: 49, 42: 42, 36: 36, 65: 65, 48: 48, 50: 50, 27: 27, 33: 33, 59: 59, 47: 47, 51: 51, 69: 69, 70: 70, 63: 63, 43: 43, 68: 68, 32: 32, 26: 26, 57: 57, 38: 38, 55: 55, 34: 34, 66: 66, 39: 39, 44: 44, 28: 28, 56: 56, 41: 41}\n",
      "===-=-=-=-=-=  {15: 15, 16: 16, 17: 17, 18: 18, 19: 19, 20: 20, 21: 21, 23: 23, 24: 24, 25: 25, 28: 28, 29: 29, 30: 30, 33: 33, 34: 34, 37: 37, 38: 38, 39: 39, 40: 40, 42: 42, 43: 43, 44: 44, 46: 46, 47: 47, 48: 48, 49: 49, 50: 50, 54: 54, 57: 57, 58: 58, 59: 59, 60: 60, 61: 61, 62: 62, 63: 63, 64: 64, 65: 65, 67: 67, 69: 69, 70: 70, 71: 71, 72: 72, 73: 73, 74: 74, 75: 75, 76: 76, 77: 77, 78: 78, 79: 79, 81: 81, 85: 85, 86: 86, 87: 87, 88: 88, 93: 93, 97: 97, 98: 98, 99: 99, 101: 101, 103: 103, 113: 113, 120: 120, 126: 126, 137: 137}\n",
      "Creating:  Annual Income (k$)  =====***======\n",
      " [15, 15, 16, 16, 17, 17, 18, 18, 19, 19, 19, 19, 20, 20, 20, 20, 21, 21, 23, 23, 24, 24, 25, 25, 28, 28, 28, 28, 29, 29, 30, 30, 33, 33, 33, 33, 34, 34, 37, 37, 38, 38, 39, 39, 39, 39, 40, 40, 40, 40, 42, 42, 43, 43, 43, 43, 44, 44, 46, 46, 46, 46, 47, 47, 48, 48, 48, 48, 48, 48, 49, 49, 50, 50, 54, 54, 54, 54, 54, 54, 54, 54, 54, 54, 54, 54, 57, 57, 58, 58, 59, 59, 60, 60, 60, 60, 60, 60, 61, 61, 62, 62, 62, 62, 62, 62, 63, 63, 63, 63, 63, 63, 64, 64, 65, 65, 65, 65, 67, 67, 67, 67, 69, 69, 70, 70, 71, 71, 71, 71, 71, 71, 72, 72, 73, 73, 73, 73, 74, 74, 75, 75, 76, 76, 77, 77, 77, 77, 78, 78, 78, 78, 78, 78, 78, 78, 78, 78, 78, 78, 79, 79, 81, 81, 85, 85, 86, 86, 87, 87, 87, 87, 87, 87, 88, 88, 88, 88, 93, 93, 97, 97, 98, 98, 99, 99, 101, 101, 103, 103, 103, 103, 113, 113, 120, 120, 126, 126, 137, 137] ****====_____\n",
      " {15: 15, 16: 16, 17: 17, 18: 18, 19: 19, 20: 20, 21: 21, 23: 23, 24: 24, 25: 25, 28: 28, 29: 29, 30: 30, 33: 33, 34: 34, 37: 37, 38: 38, 39: 39, 40: 40, 42: 42, 43: 43, 44: 44, 46: 46, 47: 47, 48: 48, 49: 49, 50: 50, 54: 54, 57: 57, 58: 58, 59: 59, 60: 60, 61: 61, 62: 62, 63: 63, 64: 64, 65: 65, 67: 67, 69: 69, 70: 70, 71: 71, 72: 72, 73: 73, 74: 74, 75: 75, 76: 76, 77: 77, 78: 78, 79: 79, 81: 81, 85: 85, 86: 86, 87: 87, 88: 88, 93: 93, 97: 97, 98: 98, 99: 99, 101: 101, 103: 103, 113: 113, 120: 120, 126: 126, 137: 137}\n",
      "===-=-=-=-=-=  {39: 39, 81: 81, 6: 6, 77: 77, 40: 40, 76: 76, 94: 94, 3: 3, 72: 72, 14: 14, 99: 99, 15: 15, 13: 13, 79: 79, 35: 35, 66: 66, 29: 29, 98: 98, 73: 73, 5: 5, 82: 82, 32: 32, 61: 61, 31: 31, 87: 87, 4: 4, 92: 92, 17: 17, 26: 26, 75: 75, 36: 36, 28: 28, 65: 65, 55: 55, 47: 47, 42: 42, 52: 52, 60: 60, 54: 54, 45: 45, 41: 41, 50: 50, 46: 46, 51: 51, 56: 56, 59: 59, 48: 48, 49: 49, 53: 53, 44: 44, 57: 57, 58: 58, 43: 43, 91: 91, 95: 95, 11: 11, 9: 9, 34: 34, 71: 71, 88: 88, 7: 7, 10: 10, 93: 93, 12: 12, 97: 97, 74: 74, 22: 22, 90: 90, 20: 20, 16: 16, 89: 89, 1: 1, 78: 78, 83: 83, 27: 27, 63: 63, 86: 86, 69: 69, 24: 24, 68: 68, 85: 85, 23: 23, 8: 8, 18: 18}\n",
      "Creating:  Spending Score (1-100)  =====***======\n",
      " [39, 81, 6, 77, 40, 76, 6, 94, 3, 72, 14, 99, 15, 77, 13, 79, 35, 66, 29, 98, 35, 73, 5, 73, 14, 82, 32, 61, 31, 87, 4, 73, 4, 92, 14, 81, 17, 73, 26, 75, 35, 92, 36, 61, 28, 65, 55, 47, 42, 42, 52, 60, 54, 60, 45, 41, 50, 46, 51, 46, 56, 55, 52, 59, 51, 59, 50, 48, 59, 47, 55, 42, 49, 56, 47, 54, 53, 48, 52, 42, 51, 55, 41, 44, 57, 46, 58, 55, 60, 46, 55, 41, 49, 40, 42, 52, 47, 50, 42, 49, 41, 48, 59, 55, 56, 42, 50, 46, 43, 48, 52, 54, 42, 46, 48, 50, 43, 59, 43, 57, 56, 40, 58, 91, 29, 77, 35, 95, 11, 75, 9, 75, 34, 71, 5, 88, 7, 73, 10, 72, 5, 93, 40, 87, 12, 97, 36, 74, 22, 90, 17, 88, 20, 76, 16, 89, 1, 78, 1, 73, 35, 83, 5, 93, 26, 75, 20, 95, 27, 63, 13, 75, 10, 92, 13, 86, 15, 69, 14, 90, 32, 86, 15, 88, 39, 97, 24, 68, 17, 85, 23, 69, 8, 91, 16, 79, 28, 74, 18, 83] ****====_____\n",
      " {39: 39, 81: 81, 6: 6, 77: 77, 40: 40, 76: 76, 94: 94, 3: 3, 72: 72, 14: 14, 99: 99, 15: 15, 13: 13, 79: 79, 35: 35, 66: 66, 29: 29, 98: 98, 73: 73, 5: 5, 82: 82, 32: 32, 61: 61, 31: 31, 87: 87, 4: 4, 92: 92, 17: 17, 26: 26, 75: 75, 36: 36, 28: 28, 65: 65, 55: 55, 47: 47, 42: 42, 52: 52, 60: 60, 54: 54, 45: 45, 41: 41, 50: 50, 46: 46, 51: 51, 56: 56, 59: 59, 48: 48, 49: 49, 53: 53, 44: 44, 57: 57, 58: 58, 43: 43, 91: 91, 95: 95, 11: 11, 9: 9, 34: 34, 71: 71, 88: 88, 7: 7, 10: 10, 93: 93, 12: 12, 97: 97, 74: 74, 22: 22, 90: 90, 20: 20, 16: 16, 89: 89, 1: 1, 78: 78, 83: 83, 27: 27, 63: 63, 86: 86, 69: 69, 24: 24, 68: 68, 85: 85, 23: 23, 8: 8, 18: 18}\n"
     ]
    },
    {
     "data": {
      "text/html": [
       "<div>\n",
       "<style scoped>\n",
       "    .dataframe tbody tr th:only-of-type {\n",
       "        vertical-align: middle;\n",
       "    }\n",
       "\n",
       "    .dataframe tbody tr th {\n",
       "        vertical-align: top;\n",
       "    }\n",
       "\n",
       "    .dataframe thead th {\n",
       "        text-align: right;\n",
       "    }\n",
       "</style>\n",
       "<table border=\"1\" class=\"dataframe\">\n",
       "  <thead>\n",
       "    <tr style=\"text-align: right;\">\n",
       "      <th></th>\n",
       "      <th>CustomerID</th>\n",
       "      <th>Gender</th>\n",
       "      <th>Age</th>\n",
       "      <th>Annual Income (k$)</th>\n",
       "      <th>Spending Score (1-100)</th>\n",
       "    </tr>\n",
       "  </thead>\n",
       "  <tbody>\n",
       "    <tr>\n",
       "      <th>0</th>\n",
       "      <td>1</td>\n",
       "      <td>Male</td>\n",
       "      <td>19</td>\n",
       "      <td>15</td>\n",
       "      <td>39</td>\n",
       "    </tr>\n",
       "    <tr>\n",
       "      <th>1</th>\n",
       "      <td>2</td>\n",
       "      <td>Male</td>\n",
       "      <td>21</td>\n",
       "      <td>15</td>\n",
       "      <td>81</td>\n",
       "    </tr>\n",
       "    <tr>\n",
       "      <th>2</th>\n",
       "      <td>3</td>\n",
       "      <td>Female</td>\n",
       "      <td>20</td>\n",
       "      <td>16</td>\n",
       "      <td>6</td>\n",
       "    </tr>\n",
       "    <tr>\n",
       "      <th>3</th>\n",
       "      <td>4</td>\n",
       "      <td>Female</td>\n",
       "      <td>23</td>\n",
       "      <td>16</td>\n",
       "      <td>77</td>\n",
       "    </tr>\n",
       "    <tr>\n",
       "      <th>4</th>\n",
       "      <td>5</td>\n",
       "      <td>Female</td>\n",
       "      <td>31</td>\n",
       "      <td>17</td>\n",
       "      <td>40</td>\n",
       "    </tr>\n",
       "    <tr>\n",
       "      <th>...</th>\n",
       "      <td>...</td>\n",
       "      <td>...</td>\n",
       "      <td>...</td>\n",
       "      <td>...</td>\n",
       "      <td>...</td>\n",
       "    </tr>\n",
       "    <tr>\n",
       "      <th>195</th>\n",
       "      <td>196</td>\n",
       "      <td>Female</td>\n",
       "      <td>35</td>\n",
       "      <td>120</td>\n",
       "      <td>79</td>\n",
       "    </tr>\n",
       "    <tr>\n",
       "      <th>196</th>\n",
       "      <td>197</td>\n",
       "      <td>Female</td>\n",
       "      <td>45</td>\n",
       "      <td>126</td>\n",
       "      <td>28</td>\n",
       "    </tr>\n",
       "    <tr>\n",
       "      <th>197</th>\n",
       "      <td>198</td>\n",
       "      <td>Male</td>\n",
       "      <td>32</td>\n",
       "      <td>126</td>\n",
       "      <td>74</td>\n",
       "    </tr>\n",
       "    <tr>\n",
       "      <th>198</th>\n",
       "      <td>199</td>\n",
       "      <td>Male</td>\n",
       "      <td>32</td>\n",
       "      <td>137</td>\n",
       "      <td>18</td>\n",
       "    </tr>\n",
       "    <tr>\n",
       "      <th>199</th>\n",
       "      <td>200</td>\n",
       "      <td>Male</td>\n",
       "      <td>30</td>\n",
       "      <td>137</td>\n",
       "      <td>83</td>\n",
       "    </tr>\n",
       "  </tbody>\n",
       "</table>\n",
       "<p>200 rows × 5 columns</p>\n",
       "</div>"
      ],
      "text/plain": [
       "     CustomerID  Gender  Age  Annual Income (k$)  Spending Score (1-100)\n",
       "0             1    Male   19                  15                      39\n",
       "1             2    Male   21                  15                      81\n",
       "2             3  Female   20                  16                       6\n",
       "3             4  Female   23                  16                      77\n",
       "4             5  Female   31                  17                      40\n",
       "..          ...     ...  ...                 ...                     ...\n",
       "195         196  Female   35                 120                      79\n",
       "196         197  Female   45                 126                      28\n",
       "197         198    Male   32                 126                      74\n",
       "198         199    Male   32                 137                      18\n",
       "199         200    Male   30                 137                      83\n",
       "\n",
       "[200 rows x 5 columns]"
      ]
     },
     "execution_count": 2,
     "metadata": {},
     "output_type": "execute_result"
    }
   ],
   "source": [
    "data = pd.read_csv(DATA_DIR + 'Mall_Customers.csv', ',')\n",
    "data = data[data.columns.drop(list(data.filter(regex='Unnamed')))]\n",
    "# data = data.drop(['Оценка', 'Группа'], 1)\n",
    "data = data.dropna()\n",
    "features_model = FeaturesModel(data, 'html')\n",
    "\n",
    "features_model.raw_df"
   ]
  },
  {
   "cell_type": "code",
   "execution_count": 3,
   "id": "usual-mandate",
   "metadata": {},
   "outputs": [
    {
     "data": {
      "text/html": [
       "<ul><li><div>CustomerID</div></li><li><div>Gender</div></li><li><div>Age</div></li><li><div>Annual Income (k$)</div></li><li><div>Spending Score (1-100)</div></li></ul>"
      ],
      "text/plain": [
       "<IPython.core.display.HTML object>"
      ]
     },
     "metadata": {},
     "output_type": "display_data"
    }
   ],
   "source": [
    "display(HTML(features_model.f_features_names()))"
   ]
  },
  {
   "cell_type": "code",
   "execution_count": 4,
   "id": "norman-botswana",
   "metadata": {},
   "outputs": [
    {
     "data": {
      "text/html": [
       "<div style=\"font-size: 20px;\"><div style=\"font-weight: bold;\">Feature </div><div>Содержание дисциплины соответствовало заявленному в программе дисциплины</div><div>Scale: <span style=\"font-style: italic\">Nominal</span></div><div>Observation aggregated data</div><ul>\n",
       "<li>Полностью согласен – 38</li>\n",
       "<li>Согласен – 12</li>\n",
       "<li>Не определился – 1</li>\n",
       "</ul></div><hr>"
      ],
      "text/plain": [
       "<IPython.core.display.HTML object>"
      ]
     },
     "metadata": {},
     "output_type": "display_data"
    }
   ],
   "source": [
    "display(HTML(str(features_model.features[0])))"
   ]
  },
  {
   "cell_type": "code",
   "execution_count": 3,
   "id": "bored-assist",
   "metadata": {},
   "outputs": [
    {
     "data": {
      "text/html": [
       "<div style=\"font-size: 20px;\"><div style=\"font-weight: bold;\">Feature </div><div>Содержание дисциплины соответствовало заявленному в программе дисциплины</div><div>Scale: <span style=\"font-style: italic\">Nominal</span></div><div>Observation aggregated data</div><ul>\n",
       "<li>Полностью согласен – 38</li>\n",
       "<li>Согласен – 12</li>\n",
       "<li>Не определился – 1</li>\n",
       "</ul></div><hr><div style=\"font-size: 20px;\"><div style=\"font-weight: bold;\">Feature </div><div>Место дисциплины в программе обучения обосновано</div><div>Scale: <span style=\"font-style: italic\">Nominal</span></div><div>Observation aggregated data</div><ul>\n",
       "<li>Полностью согласен – 31</li>\n",
       "<li>Согласен – 13</li>\n",
       "<li>Не определился – 7</li>\n",
       "</ul></div><hr><div style=\"font-size: 20px;\"><div style=\"font-weight: bold;\">Feature </div><div>Учебная нагрузка дисциплины посильная</div><div>Scale: <span style=\"font-style: italic\">Nominal</span></div><div>Observation aggregated data</div><ul>\n",
       "<li>Полностью согласен – 38</li>\n",
       "<li>Согласен – 11</li>\n",
       "<li>Не согласен – 1</li>\n",
       "<li>Не определился – 1</li>\n",
       "</ul></div><hr><div style=\"font-size: 20px;\"><div style=\"font-weight: bold;\">Feature </div><div>Уровень нагрузки в ходе обучения равномерный</div><div>Scale: <span style=\"font-style: italic\">Nominal</span></div><div>Observation aggregated data</div><ul>\n",
       "<li>Полностью согласен – 41</li>\n",
       "<li>Согласен – 8</li>\n",
       "<li>Не определился – 2</li>\n",
       "</ul></div><hr><div style=\"font-size: 20px;\"><div style=\"font-weight: bold;\">Feature </div><div>Занятия проводились согласно расписанию</div><div>Scale: <span style=\"font-style: italic\">Nominal</span></div><div>Observation aggregated data</div><ul>\n",
       "<li>Полностью согласен – 42</li>\n",
       "<li>Не определился – 3</li>\n",
       "<li>Согласен – 6</li>\n",
       "</ul></div><hr><div style=\"font-size: 20px;\"><div style=\"font-weight: bold;\">Feature </div><div>Доступ к материалам дисциплины предоставлялся вовремя</div><div>Scale: <span style=\"font-style: italic\">Nominal</span></div><div>Observation aggregated data</div><ul>\n",
       "<li>Полностью согласен – 43</li>\n",
       "<li>Согласен – 8</li>\n",
       "</ul></div><hr><div style=\"font-size: 20px;\"><div style=\"font-weight: bold;\">Feature </div><div>О заменах и переносах (при наличии таковых) сообщалось заранее в доступной форме</div><div>Scale: <span style=\"font-style: italic\">Nominal</span></div><div>Observation aggregated data</div><ul>\n",
       "<li>Полностью согласен – 44</li>\n",
       "<li>Согласен – 5</li>\n",
       "<li>Не определился – 2</li>\n",
       "</ul></div><hr><div style=\"font-size: 20px;\"><div style=\"font-weight: bold;\">Feature </div><div>Перед изучением дисциплины [были ли у Вас соответствующие теоретические знания]</div><div>Scale: <span style=\"font-style: italic\">Nominal</span></div><div>Observation aggregated data</div><ul>\n",
       "<li>Нет – 29</li>\n",
       "<li>Да – 22</li>\n",
       "</ul></div><hr><div style=\"font-size: 20px;\"><div style=\"font-weight: bold;\">Feature </div><div>Перед изучением дисциплины [был ли у Вас соответствующий практический опыт]</div><div>Scale: <span style=\"font-style: italic\">Nominal</span></div><div>Observation aggregated data</div><ul>\n",
       "<li>Нет – 37</li>\n",
       "<li>Да – 14</li>\n",
       "</ul></div><hr><div style=\"font-size: 20px;\"><div style=\"font-weight: bold;\">Feature </div><div>Оцените, пожалуйста, [приблизительный уровень Вашего присутствия на занятиях (в %)]</div><div>Scale: <span style=\"font-style: italic\">Nominal</span></div><div>Observation aggregated data</div><ul>\n",
       "<li>0-30 – 16</li>\n",
       "<li>90-100 – 8</li>\n",
       "<li>60-74 – 5</li>\n",
       "<li>31-59 – 12</li>\n",
       "<li>75-89 – 10</li>\n",
       "</ul></div><hr><div style=\"font-size: 20px;\"><div style=\"font-weight: bold;\">Feature </div><div>Оцените, пожалуйста, [свою успешность в дисциплине (в баллах)]</div><div>Scale: <span style=\"font-style: italic\">Nominal</span></div><div>Observation aggregated data</div><ul>\n",
       "<li>90-100 – 28</li>\n",
       "<li>31-59 – 2</li>\n",
       "<li>60-74 – 5</li>\n",
       "<li>75-89 – 16</li>\n",
       "</ul></div><hr><div style=\"font-size: 20px;\"><div style=\"font-weight: bold;\">Feature </div><div>Вы активно участвовали в аудиторных занятиях?</div><div>Scale: <span style=\"font-style: italic\">Nominal</span></div><div>Observation aggregated data</div><ul>\n",
       "<li>Нет – 22</li>\n",
       "<li>Затрудняюсь ответить – 20</li>\n",
       "<li>Да – 9</li>\n",
       "</ul></div><hr><div style=\"font-size: 20px;\"><div style=\"font-weight: bold;\">Feature </div><div>Вы изучали самостоятельно материалы по дисциплине?</div><div>Scale: <span style=\"font-style: italic\">Nominal</span></div><div>Observation aggregated data</div><ul>\n",
       "<li>Да – 37</li>\n",
       "<li>Затрудняюсь ответить – 6</li>\n",
       "<li>Нет – 8</li>\n",
       "</ul></div><hr><div style=\"font-size: 20px;\"><div style=\"font-weight: bold;\">Feature </div><div>Вы удовлетворены своим прогрессом в дисциплине?</div><div>Scale: <span style=\"font-style: italic\">Nominal</span></div><div>Observation aggregated data</div><ul>\n",
       "<li>Да – 44</li>\n",
       "<li>Затрудняюсь ответить – 6</li>\n",
       "<li>Нет – 1</li>\n",
       "</ul></div><hr><div style=\"font-size: 20px;\"><div style=\"font-weight: bold;\">Feature </div><div>Считаете ли Вы, что дисциплина хорошо структурирована с точки зрения баланса лекций, практик, лабораторных, самостоятельной работы?</div><div>Scale: <span style=\"font-style: italic\">Nominal</span></div><div>Observation aggregated data</div><ul>\n",
       "<li>Да – 49</li>\n",
       "<li>Нет – 1</li>\n",
       "<li>Затрудняюсь ответить – 1</li>\n",
       "</ul></div><hr><div style=\"font-size: 20px;\"><div style=\"font-weight: bold;\">Feature </div><div>Считаете ли Вы, что методы обучения стимулировали и увлекали студентов?</div><div>Scale: <span style=\"font-style: italic\">Nominal</span></div><div>Observation aggregated data</div><ul>\n",
       "<li>Да – 38</li>\n",
       "<li>Затрудняюсь ответить – 9</li>\n",
       "<li>Нет – 3</li>\n",
       "<li>Больше всего стимулировала ответственность перед командой, когда мы делили ответственность за выполнение – 1</li>\n",
       "</ul></div><hr><div style=\"font-size: 20px;\"><div style=\"font-weight: bold;\">Feature </div><div>Считаете ли Вы, что общая атмосфера в аудитории была рабочей и дружественной?</div><div>Scale: <span style=\"font-style: italic\">Nominal</span></div><div>Observation aggregated data</div><ul>\n",
       "<li>Да – 38</li>\n",
       "<li>Затрудняюсь ответить – 8</li>\n",
       "<li>Моя команда не работала – 1</li>\n",
       "<li>На атмосферу очень влияли другие студенты. Особенно мешали те, кому было неинтересно. Но это уже не вина преподавателя. – 1</li>\n",
       "<li>Нет – 1</li>\n",
       "<li>не был в аудитории – 1</li>\n",
       "<li>очень дружественная  – 1</li>\n",
       "</ul></div><hr><div style=\"font-size: 20px;\"><div style=\"font-weight: bold;\">Feature </div><div>Методические и раздаточные материалы соответствуют тематике дисциплины</div><div>Scale: <span style=\"font-style: italic\">Nominal</span></div><div>Observation aggregated data</div><ul>\n",
       "<li>Полностью согласен – 35</li>\n",
       "<li>Не определился – 5</li>\n",
       "<li>Согласен – 11</li>\n",
       "</ul></div><hr><div style=\"font-size: 20px;\"><div style=\"font-weight: bold;\">Feature </div><div>Преподавателем рекомендована бесплатная литература, изложение материалов в литературе доступное и понятное</div><div>Scale: <span style=\"font-style: italic\">Nominal</span></div><div>Observation aggregated data</div><ul>\n",
       "<li>Полностью согласен – 36</li>\n",
       "<li>Не определился – 7</li>\n",
       "<li>Согласен – 8</li>\n",
       "</ul></div><hr><div style=\"font-size: 20px;\"><div style=\"font-weight: bold;\">Feature </div><div>Обеспечение учебными ресурсами в библиотеке соответствует Вашим потребностям</div><div>Scale: <span style=\"font-style: italic\">Nominal</span></div><div>Observation aggregated data</div><ul>\n",
       "<li>Полностью согласен – 22</li>\n",
       "<li>Согласен – 14</li>\n",
       "<li>Не определился – 14</li>\n",
       "<li>Не согласен – 1</li>\n",
       "</ul></div><hr><div style=\"font-size: 20px;\"><div style=\"font-weight: bold;\">Feature </div><div>Обеспечение вебресурсами соответствует Вашим потребностям</div><div>Scale: <span style=\"font-style: italic\">Nominal</span></div><div>Observation aggregated data</div><ul>\n",
       "<li>Полностью согласен – 38</li>\n",
       "<li>Согласен – 9</li>\n",
       "<li>Не определился – 4</li>\n",
       "</ul></div><hr><div style=\"font-size: 20px;\"><div style=\"font-weight: bold;\">Feature </div><div>Основные идеи и понятия дисциплины излагаются </div><div>Scale: <span style=\"font-style: italic\">Nominal</span></div><div>Observation aggregated data</div><ul>\n",
       "<li>вполне доступно – 50</li>\n",
       "<li>слишком сложно – 1</li>\n",
       "</ul></div><hr><div style=\"font-size: 20px;\"><div style=\"font-weight: bold;\">Feature </div><div>Темп изложения</div><div>Scale: <span style=\"font-style: italic\">Nominal</span></div><div>Observation aggregated data</div><ul>\n",
       "<li>приемлемый – 48</li>\n",
       "<li>слишком быстрый – 3</li>\n",
       "</ul></div><hr><div style=\"font-size: 20px;\"><div style=\"font-weight: bold;\">Feature </div><div>Дисциплина стимулирует Ваш интерес к дальнейшему профессиональному росту</div><div>Scale: <span style=\"font-style: italic\">Nominal</span></div><div>Observation aggregated data</div><ul>\n",
       "<li>Да – 38</li>\n",
       "<li>Нет – 2</li>\n",
       "<li>Не вижу связи – 10</li>\n",
       "<li>Не знаю – 1</li>\n",
       "</ul></div><hr><div style=\"font-size: 20px;\"><div style=\"font-weight: bold;\">Feature </div><div>Вы понимали на аудиторных занятиях новый материал</div><div>Scale: <span style=\"font-style: italic\">Nominal</span></div><div>Observation aggregated data</div><ul>\n",
       "<li>Не присутствовал на аудиторных занятиях – 11</li>\n",
       "<li>Да – 38</li>\n",
       "<li>Нет – 1</li>\n",
       "<li>Был на 1 и 2ой лекции. Ответ - да. – 1</li>\n",
       "</ul></div><hr><div style=\"font-size: 20px;\"><div style=\"font-weight: bold;\">Feature </div><div>При изложении материала прослеживались связи [между темами дисциплины]</div><div>Scale: <span style=\"font-style: italic\">Nominal</span></div><div>Observation aggregated data</div><ul>\n",
       "<li>Да, регулярно – 44</li>\n",
       "<li>Весьма эпизодически – 6</li>\n",
       "<li>Нет – 1</li>\n",
       "</ul></div><hr><div style=\"font-size: 20px;\"><div style=\"font-weight: bold;\">Feature </div><div>При изложении материала прослеживались связи [между этой и другими дисциплинами программы обучения]</div><div>Scale: <span style=\"font-style: italic\">Nominal</span></div><div>Observation aggregated data</div><ul>\n",
       "<li>Да, регулярно – 33</li>\n",
       "<li>Весьма эпизодически – 17</li>\n",
       "<li>Нет – 1</li>\n",
       "</ul></div><hr><div style=\"font-size: 20px;\"><div style=\"font-weight: bold;\">Feature </div><div>Преподаватель динамично реагировал на вопросы и потребности студентов</div><div>Scale: <span style=\"font-style: italic\">Nominal</span></div><div>Observation aggregated data</div><ul>\n",
       "<li>Да – 46</li>\n",
       "<li>Затрудняюсь ответить – 5</li>\n",
       "</ul></div><hr><div style=\"font-size: 20px;\"><div style=\"font-weight: bold;\">Feature </div><div>Готовы ли Вы охарактеризовать поведение уравновешенным и отношение к студентам объективным [говоря о преподавателе]</div><div>Scale: <span style=\"font-style: italic\">Nominal</span></div><div>Observation aggregated data</div><ul>\n",
       "<li>Да – 45</li>\n",
       "<li>Нет – 2</li>\n",
       "<li>Воздержусь – 4</li>\n",
       "</ul></div><hr><div style=\"font-size: 20px;\"><div style=\"font-weight: bold;\">Feature </div><div>Методы оценивания были понятны и обоснованы?</div><div>Scale: <span style=\"font-style: italic\">Nominal</span></div><div>Observation aggregated data</div><ul>\n",
       "<li>Да – 43</li>\n",
       "<li>Не всегда – 7</li>\n",
       "<li>Не всегда понятны – 1</li>\n",
       "</ul></div><hr><div style=\"font-size: 20px;\"><div style=\"font-weight: bold;\">Feature </div><div>Вы получали вовремя результаты оценивания?</div><div>Scale: <span style=\"font-style: italic\">Nominal</span></div><div>Observation aggregated data</div><ul>\n",
       "<li>Да – 50</li>\n",
       "<li>Не всегда – 1</li>\n",
       "</ul></div><hr><div style=\"font-size: 20px;\"><div style=\"font-weight: bold;\">Feature </div><div>Давал ли преподаватель полезную обратную связь по результатам оценивания?</div><div>Scale: <span style=\"font-style: italic\">Nominal</span></div><div>Observation aggregated data</div><ul>\n",
       "<li>Да – 36</li>\n",
       "<li>Я не спрашивал – 14</li>\n",
       "<li>Иногда баллы за электронные лабораторные работы были меньше максимальных, но при этом не был дан соответствующий комментарий. При этом в большинстве случаев всё было вполне справедливо – 1</li>\n",
       "</ul></div><hr><div style=\"font-size: 20px;\"><div style=\"font-weight: bold;\">Feature </div><div>Методические указания содержали полезные сведения</div><div>Scale: <span style=\"font-style: italic\">Nominal</span></div><div>Observation aggregated data</div><ul>\n",
       "<li>Однозначно, да – 36</li>\n",
       "<li>Некоторые рекомендации были полезны – 13</li>\n",
       "<li>Зачем читать методичку, если есть работы одногруппников? – 1</li>\n",
       "<li>Нет, время на их чтение потрачено зря – 1</li>\n",
       "</ul></div><hr><div style=\"font-size: 20px;\"><div style=\"font-weight: bold;\">Feature </div><div>Требуемый объем работ</div><div>Scale: <span style=\"font-style: italic\">Nominal</span></div><div>Observation aggregated data</div><ul>\n",
       "<li>посильный – 48</li>\n",
       "<li>непосильный – 1</li>\n",
       "<li>Относительно несложный – 1</li>\n",
       "<li>\"льготный\", выполнялись работы достаточно быстро – 1</li>\n",
       "</ul></div><hr><div style=\"font-size: 20px;\"><div style=\"font-weight: bold;\">Feature </div><div>Преподаватель эффективно помогал в решении возникавших проблем</div><div>Scale: <span style=\"font-style: italic\">Nominal</span></div><div>Observation aggregated data</div><ul>\n",
       "<li>Всегда – 43</li>\n",
       "<li>Иногда – 5</li>\n",
       "<li>не нуждался – 1</li>\n",
       "<li>Проблемы не возникали – 1</li>\n",
       "<li>Не спрашивал – 1</li>\n",
       "</ul></div><hr><div style=\"font-size: 20px;\"><div style=\"font-weight: bold;\">Feature </div><div>Практические/лабораторные задания Вы выполняли</div><div>Scale: <span style=\"font-style: italic\">Nominal</span></div><div>Observation aggregated data</div><ul>\n",
       "<li>с небольшой помощью – 11</li>\n",
       "<li>самостоятельно – 31</li>\n",
       "<li>как команда – 1</li>\n",
       "<li>часто требовалась помощь – 2</li>\n",
       "<li>В команде – 2</li>\n",
       "<li>командой  – 1</li>\n",
       "<li>в команде – 1</li>\n",
       "<li>Командой – 1</li>\n",
       "<li>Совместно с людьми в моей команде – 1</li>\n",
       "</ul></div><hr>"
      ],
      "text/plain": [
       "<IPython.core.display.HTML object>"
      ]
     },
     "metadata": {},
     "output_type": "display_data"
    }
   ],
   "source": [
    "# display(HTML(str(list(map(lambda x: str(x), features_model.features)))))\n",
    "features_list = list(map(lambda x: str(x), features_model.features))\n",
    "features_html = reduce(lambda x, y: x+y, features_list)\n",
    "display(HTML(features_html))"
   ]
  },
  {
   "cell_type": "markdown",
   "id": "classified-contractor",
   "metadata": {},
   "source": [
    "## Self descriptive statistics\n",
    "Describes feature itself, by representing basic statistic metrics for scale. Scale is a "
   ]
  },
  {
   "cell_type": "code",
   "execution_count": 7,
   "id": "analyzed-space",
   "metadata": {
    "scrolled": true
   },
   "outputs": [],
   "source": [
    "from Core.FeaturesScales.DescriptiveStatisticsCalculators.NominalCalculator import NominalCalculator\n",
    "from Core.FeaturesScales.DescriptiveStatisticsCalculators.OrdinalCalculator import OrdinalCalculator\n",
    "from Core.FeaturesScales.DescriptiveStatisticsCalculators.IntervalCalculator import IntervalCalculator\n",
    "\n",
    "def my_calc_mode(self, observation_dict):\n",
    "    print(\"Helllo\")\n",
    "    return {k: v for (k, v) in observation_dict.items() if v == max(observation_dict.values())}\n",
    "\n",
    "NominalCalculator.calc_mode = my_calc_mode\n"
   ]
  },
  {
   "cell_type": "code",
   "execution_count": 4,
   "id": "dramatic-allen",
   "metadata": {
    "scrolled": false
   },
   "outputs": [
    {
     "data": {
      "application/vnd.jupyter.widget-view+json": {
       "model_id": "099ec22d02704bc5bbe0c5342d29ef54",
       "version_major": 2,
       "version_minor": 0
      },
      "text/plain": [
       "Dropdown(description='Choose feature: ', index=1, layout=Layout(width='100%'), options=('CustomerID', 'Gender'…"
      ]
     },
     "metadata": {},
     "output_type": "display_data"
    },
    {
     "data": {
      "text/html": [
       "<div style=\"font-weight:bold\">Mode:</div><ul><li>Female – 112</li></ul>"
      ],
      "text/plain": [
       "<IPython.core.display.HTML object>"
      ]
     },
     "metadata": {},
     "output_type": "display_data"
    },
    {
     "data": {
      "image/png": "[encoded data removed]",
      "text/plain": [
       "<Figure size 2520x1008 with 1 Axes>"
      ]
     },
     "metadata": {
      "needs_background": "light"
     },
     "output_type": "display_data"
    }
   ],
   "source": [
    "# print(features_model.features)\n",
    "# display(HTML(features_model.features))\n",
    "features_dropdown = widgets.Dropdown(\n",
    "    options=features_model.raw_features_names(),\n",
    "    value=features_model.raw_features_names()[0],\n",
    "    description='Choose feature: ',\n",
    "    disabled=False,\n",
    "    style={'description_width': 'initial', 'width': '500px'},\n",
    "    layout={'width':'100%'}\n",
    ")\n",
    "def on_change(change):\n",
    "    if change['type'] == 'change' and change['name'] == 'value':\n",
    "        clear_output(wait=True)\n",
    "        display(features_dropdown)\n",
    "        display(HTML(str(features_model[change['new']].f_get_stat_info())))\n",
    "\n",
    "features_dropdown.observe(on_change)\n",
    "display(features_dropdown)\n",
    "display(HTML(features_model.features[0].f_get_stat_info()))"
   ]
  },
  {
   "cell_type": "code",
   "execution_count": 12,
   "id": "coral-swaziland",
   "metadata": {},
   "outputs": [
    {
     "data": {
      "application/vnd.jupyter.widget-view+json": {
       "model_id": "bb93e5678ad044fd8adbb8f8257053ea",
       "version_major": 2,
       "version_minor": 0
      },
      "text/plain": [
       "Dropdown(description='Choose feature: ', index=3, layout=Layout(width='100%'), options=('Date_reported', 'Coun…"
      ]
     },
     "metadata": {},
     "output_type": "display_data"
    },
    {
     "data": {
      "text/plain": [
       "\"Recently changed: ['WHO_region', 'WHO_region']\""
      ]
     },
     "metadata": {},
     "output_type": "display_data"
    },
    {
     "data": {
      "text/html": [
       "<div>Successfully converted WHO_region to <b>interval</b></div>"
      ],
      "text/plain": [
       "<IPython.core.display.HTML object>"
      ]
     },
     "metadata": {},
     "output_type": "display_data"
    }
   ],
   "source": [
    "converter_ui = ConverterUI(features_model)\n",
    "converter_ui.ui()"
   ]
  },
  {
   "cell_type": "code",
   "execution_count": 9,
   "id": "increasing-ranch",
   "metadata": {
    "pycharm": {
     "name": "#%%\n"
    }
   },
   "outputs": [
    {
     "data": {
      "application/vnd.jupyter.widget-view+json": {
       "model_id": "a580a48cb8bc4dc093d29425f9d9c130",
       "version_major": 2,
       "version_minor": 0
      },
      "text/plain": [
       "Dropdown(description='Choose feature 1: ', layout=Layout(width='100%'), options=('Содержание дисциплины соотве…"
      ]
     },
     "metadata": {},
     "output_type": "display_data"
    }
   ],
   "source": [
    "from UI.DependencyUI import DependencyUI\n",
    "DependencyUI(features_model).ui()"
   ]
  },
  {
   "cell_type": "code",
   "execution_count": 14,
   "id": "ruled-noise",
   "metadata": {},
   "outputs": [],
   "source": [
    "from sklearn.cluster import KMeans\n",
    "import matplotlib.pyplot as plt\n",
    "from copy import copy\n",
    "from Core.Clustering.ClusteriseModule import ClusteriseModule\n",
    "\n",
    "def my__init__(self, feature_1, feature_2):\n",
    "        self.feature_1 = feature_1\n",
    "        self.feature_2 = feature_2\n",
    "\n",
    "def clusterise_features(self):\n",
    "    feature_1_encoded_data = self.encode_features(self.feature_1)\n",
    "    feature_2_encoded_data = self.encode_features(self.feature_2)\n",
    "    pairs_data = list()\n",
    "    for i in range(len(feature_1_encoded_data)):\n",
    "        pairs_data.append([feature_1_encoded_data[i], feature_2_encoded_data[i]])\n",
    "    print(pairs_data)\n",
    "    kmeans = KMeans(init='k-means++', max_iter=300, n_init=10, random_state=0).fit(pairs_data)\n",
    "    self.build_plot(kmeans)\n",
    "\n",
    "def build_plot(self, kmeans):\n",
    "    clusters_size = {}\n",
    "    for cluster_label in kmeans.labels_:\n",
    "        clusters_size[cluster_label] = clusters_size.get(cluster_label, 0) + 1\n",
    "    for cluster_label in clusters_size:\n",
    "        plt.scatter(kmeans.cluster_centers_[cluster_label][0],\n",
    "                    kmeans.cluster_centers_[cluster_label][1],\n",
    "                    s=clusters_size[cluster_label] * 125, c='orange', alpha=0.4, linewidth=4)\n",
    "        plt.text(kmeans.cluster_centers_[cluster_label][0],\n",
    "                 kmeans.cluster_centers_[cluster_label][1],\n",
    "                 s=str(clusters_size[cluster_label]), horizontalalignment='center', verticalalignment='center')\n",
    "\n",
    "    x_ticks_list = list(plt.xticks()[0])\n",
    "    y_ticks_list = list(plt.yticks()[0])\n",
    "    new_x_ticks = self.update_ticks_by_indexes(x_ticks_list,\n",
    "                                               list(self.feature_1.aggregated_data.keys()))\n",
    "    new_y_ticks = self.update_ticks_by_indexes(y_ticks_list,\n",
    "                                               list(self.feature_2.aggregated_data.keys()))\n",
    "    plt.xticks(x_ticks_list, new_x_ticks)\n",
    "    plt.yticks(y_ticks_list, new_y_ticks)\n",
    "    plt.xlabel(self.feature_1.name)\n",
    "    plt.ylabel(self.feature_2.name)\n",
    "    plt.figure(figsize=(35, 14))\n",
    "    plt.show()\n",
    "\n",
    "def encode_features(self, feature):\n",
    "    encoding_list = list(feature.aggregated_data.keys())\n",
    "    feature_encoded_data = list(map(lambda x: encoding_list.index(x), feature.data))\n",
    "    return feature_encoded_data\n",
    "\n",
    "def update_ticks_by_indexes(self, ticks_list, additional_values):\n",
    "    \"\"\"\n",
    "    Will convert plot ticks tick_list [0.0, 0.25, 0.5, 0.75, 1.0]\n",
    "    Using indexes and values in additional_values ['Some', 'Text']\n",
    "    To [\"0.0\\nSome\", 0.25, 0.5, 0.75, \"1.0\\nText\"]\n",
    "    \"\"\"\n",
    "    res_ticks = copy(ticks_list)\n",
    "    for i in range(len(additional_values)):\n",
    "        tick_replace_index = ticks_list.index(i)\n",
    "        res_ticks[tick_replace_index] = f\"{ticks_list[tick_replace_index]} or\\n{additional_values[i]}\"\n",
    "    return res_ticks\n",
    "ClusteriseModule.__init__ = my__init__\n",
    "\n",
    "ClusteriseModule.clusterise_features = clusterise_features\n",
    "ClusteriseModule.build_plot = build_plot\n",
    "ClusteriseModule.encode_features = encode_features\n",
    "ClusteriseModule.update_ticks_by_indexes = update_ticks_by_indexes\n"
   ]
  },
  {
   "cell_type": "code",
   "execution_count": 18,
   "id": "permanent-brook",
   "metadata": {
    "pycharm": {
     "name": "#%%\n"
    }
   },
   "outputs": [
    {
     "name": "stdout",
     "output_type": "stream",
     "text": [
      "[[0, 0], [0, 1], [0, 1], [0, 1], [0, 2], [1, 0], [0, 0], [1, 2], [0, 1], [0, 0], [0, 1], [0, 0], [0, 0], [2, 0], [0, 0], [0, 0], [0, 1], [0, 1], [0, 1], [0, 0], [0, 0], [1, 2], [1, 0], [0, 1], [0, 0], [0, 2], [0, 0], [0, 2], [1, 1], [0, 1], [0, 0], [1, 1], [3, 1], [0, 0], [0, 1], [0, 1], [1, 0], [0, 1], [0, 0], [0, 2], [0, 2], [1, 1], [1, 1], [0, 2], [0, 2], [0, 1], [1, 0], [0, 1], [0, 0], [1, 0], [0, 0]]\n"
     ]
    },
    {
     "data": {
      "image/png": "[encoded data removed]",
      "text/plain": [
       "<Figure size 432x288 with 1 Axes>"
      ]
     },
     "metadata": {
      "needs_background": "light"
     },
     "output_type": "display_data"
    },
    {
     "data": {
      "text/plain": [
       "<Figure size 2520x1008 with 0 Axes>"
      ]
     },
     "metadata": {},
     "output_type": "display_data"
    },
    {
     "data": {
      "application/vnd.jupyter.widget-view+json": {
       "model_id": "0f3721a9bf624bc2947623c732939dc9",
       "version_major": 2,
       "version_minor": 0
      },
      "text/plain": [
       "Dropdown(description='Choose feature 1: ', layout=Layout(width='100%'), options=('Содержание дисциплины соотве…"
      ]
     },
     "metadata": {},
     "output_type": "display_data"
    }
   ],
   "source": [
    "from UI.ClusteriseUI import ClusteriseUI\n",
    "ClusteriseUI(features_model).ui()"
   ]
  },
  {
   "cell_type": "code",
   "execution_count": 11,
   "id": "latin-remark",
   "metadata": {},
   "outputs": [
    {
     "data": {
      "application/vnd.jupyter.widget-view+json": {
       "model_id": "aee07edf632f458c82aa077cfeb88c24",
       "version_major": 2,
       "version_minor": 0
      },
      "text/plain": [
       "Dropdown(description='Task:', options=('Addition', 'Multiplication', 'Subtraction', 'Division'), value='Additi…"
      ]
     },
     "metadata": {},
     "output_type": "display_data"
    }
   ],
   "source": [
    "w = widgets.Dropdown(\n",
    "    options=['Addition', 'Multiplication', 'Subtraction', 'Division'],\n",
    "    value='Addition',\n",
    "    description='Task:',\n",
    ")\n",
    "def on_change(change):\n",
    "    print(f\"type {change['type']} name: {change['name']}\")\n",
    "    if change['type'] == 'change' and change['name'] == 'value':\n",
    "        print(\"changed to %s\" % change['new'])\n",
    "\n",
    "w.observe(on_change)\n",
    "\n",
    "display(w)"
   ]
  }
 ],
 "metadata": {
  "kernelspec": {
   "display_name": "Python 3",
   "language": "python",
   "name": "python3"
  },
  "language_info": {
   "codemirror_mode": {
    "name": "ipython",
    "version": 3
   },
   "file_extension": ".py",
   "mimetype": "text/x-python",
   "name": "python",
   "nbconvert_exporter": "python",
   "pygments_lexer": "ipython3",
   "version": "3.9.0"
  }
 },
 "nbformat": 4,
 "nbformat_minor": 5
}
