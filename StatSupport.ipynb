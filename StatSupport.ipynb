{
 "cells": [
  {
   "cell_type": "markdown",
   "id": "genetic-voltage",
   "metadata": {},
   "source": [
    "# Statisitcal data analysis system"
   ]
  },
  {
   "cell_type": "markdown",
   "id": "animated-decrease",
   "metadata": {},
   "source": [
    "## First steps and guide\n",
    "To use this system you can execute cells down below and it will calculate statistical data described in text cell above it. Some features may provide you with diagrams and tables\n",
    "\n",
    "## Import of main dependencies\n",
    "First block will connect main dependencies to the system and add file from specified path as a `DATA_DIR`. In the next cell you can add file name that should be located in the direcotry specified in `DATA_DIR`"
   ]
  },
  {
   "cell_type": "code",
   "execution_count": 1,
   "id": "tropical-consent",
   "metadata": {},
   "outputs": [],
   "source": [
    "import pandas as pd\n",
    "import scipy as scp\n",
    "import copy\n",
    "from IPython.core.display import HTML\n",
    "from Core.FeaturesModel import FeaturesModel\n",
    "from functools import reduce\n",
    "from IPython.display import clear_output\n",
    "from ipywidgets import interact, interactive\n",
    "\n",
    "import matplotlib.pyplot as plt\n",
    "from ipywidgets import widgets\n",
    "from IPython.display import display\n",
    "from UI.ConverterUI import ConverterUI\n",
    "\n",
    "# from scipy.stats import spearmanr\n",
    "DATA_DIR = \"data/\""
   ]
  },
  {
   "cell_type": "markdown",
   "id": "prospective-ridge",
   "metadata": {},
   "source": [
    "## Raw data representation\n",
    "Add file with support format into the system and view its raw represenrtion. All parsing parameters refer to the Python Pandas lib. If there is a need, you can easily drop unnecessary columns:\n",
    "```pyton\n",
    "data = data[data.columns.drop(list(data.filter(regex='Unnamed')))] # Drops unnamed columns\n",
    "data = data.drop(['Column_1_Name', 'Column_2_Name'], 1) # Drops columns by their name\n",
    "```"
   ]
  },
  {
   "cell_type": "code",
   "execution_count": 8,
   "id": "improved-clearing",
   "metadata": {},
   "outputs": [
    {
     "data": {
      "text/html": [
       "<div>\n",
       "<style scoped>\n",
       "    .dataframe tbody tr th:only-of-type {\n",
       "        vertical-align: middle;\n",
       "    }\n",
       "\n",
       "    .dataframe tbody tr th {\n",
       "        vertical-align: top;\n",
       "    }\n",
       "\n",
       "    .dataframe thead th {\n",
       "        text-align: right;\n",
       "    }\n",
       "</style>\n",
       "<table border=\"1\" class=\"dataframe\">\n",
       "  <thead>\n",
       "    <tr style=\"text-align: right;\">\n",
       "      <th></th>\n",
       "      <th>Date_reported</th>\n",
       "      <th>Country_code</th>\n",
       "      <th>Country</th>\n",
       "      <th>WHO_region</th>\n",
       "      <th>New_cases</th>\n",
       "      <th>Cumulative_cases</th>\n",
       "      <th>New_deaths</th>\n",
       "      <th>Cumulative_deaths</th>\n",
       "    </tr>\n",
       "  </thead>\n",
       "  <tbody>\n",
       "    <tr>\n",
       "      <th>0</th>\n",
       "      <td>2020-01-03</td>\n",
       "      <td>AF</td>\n",
       "      <td>Afghanistan</td>\n",
       "      <td>EMRO</td>\n",
       "      <td>0</td>\n",
       "      <td>0</td>\n",
       "      <td>0</td>\n",
       "      <td>0</td>\n",
       "    </tr>\n",
       "    <tr>\n",
       "      <th>1</th>\n",
       "      <td>2020-01-04</td>\n",
       "      <td>AF</td>\n",
       "      <td>Afghanistan</td>\n",
       "      <td>EMRO</td>\n",
       "      <td>0</td>\n",
       "      <td>0</td>\n",
       "      <td>0</td>\n",
       "      <td>0</td>\n",
       "    </tr>\n",
       "    <tr>\n",
       "      <th>2</th>\n",
       "      <td>2020-01-05</td>\n",
       "      <td>AF</td>\n",
       "      <td>Afghanistan</td>\n",
       "      <td>EMRO</td>\n",
       "      <td>0</td>\n",
       "      <td>0</td>\n",
       "      <td>0</td>\n",
       "      <td>0</td>\n",
       "    </tr>\n",
       "    <tr>\n",
       "      <th>3</th>\n",
       "      <td>2020-01-06</td>\n",
       "      <td>AF</td>\n",
       "      <td>Afghanistan</td>\n",
       "      <td>EMRO</td>\n",
       "      <td>0</td>\n",
       "      <td>0</td>\n",
       "      <td>0</td>\n",
       "      <td>0</td>\n",
       "    </tr>\n",
       "    <tr>\n",
       "      <th>4</th>\n",
       "      <td>2020-01-07</td>\n",
       "      <td>AF</td>\n",
       "      <td>Afghanistan</td>\n",
       "      <td>EMRO</td>\n",
       "      <td>0</td>\n",
       "      <td>0</td>\n",
       "      <td>0</td>\n",
       "      <td>0</td>\n",
       "    </tr>\n",
       "    <tr>\n",
       "      <th>...</th>\n",
       "      <td>...</td>\n",
       "      <td>...</td>\n",
       "      <td>...</td>\n",
       "      <td>...</td>\n",
       "      <td>...</td>\n",
       "      <td>...</td>\n",
       "      <td>...</td>\n",
       "      <td>...</td>\n",
       "    </tr>\n",
       "    <tr>\n",
       "      <th>102142</th>\n",
       "      <td>2021-03-04</td>\n",
       "      <td>ZW</td>\n",
       "      <td>Zimbabwe</td>\n",
       "      <td>AFRO</td>\n",
       "      <td>31</td>\n",
       "      <td>36179</td>\n",
       "      <td>6</td>\n",
       "      <td>1478</td>\n",
       "    </tr>\n",
       "    <tr>\n",
       "      <th>102143</th>\n",
       "      <td>2021-03-05</td>\n",
       "      <td>ZW</td>\n",
       "      <td>Zimbabwe</td>\n",
       "      <td>AFRO</td>\n",
       "      <td>44</td>\n",
       "      <td>36223</td>\n",
       "      <td>5</td>\n",
       "      <td>1483</td>\n",
       "    </tr>\n",
       "    <tr>\n",
       "      <th>102144</th>\n",
       "      <td>2021-03-06</td>\n",
       "      <td>ZW</td>\n",
       "      <td>Zimbabwe</td>\n",
       "      <td>AFRO</td>\n",
       "      <td>25</td>\n",
       "      <td>36248</td>\n",
       "      <td>1</td>\n",
       "      <td>1484</td>\n",
       "    </tr>\n",
       "    <tr>\n",
       "      <th>102145</th>\n",
       "      <td>2021-03-07</td>\n",
       "      <td>ZW</td>\n",
       "      <td>Zimbabwe</td>\n",
       "      <td>AFRO</td>\n",
       "      <td>12</td>\n",
       "      <td>36260</td>\n",
       "      <td>1</td>\n",
       "      <td>1485</td>\n",
       "    </tr>\n",
       "    <tr>\n",
       "      <th>102146</th>\n",
       "      <td>2021-03-08</td>\n",
       "      <td>ZW</td>\n",
       "      <td>Zimbabwe</td>\n",
       "      <td>AFRO</td>\n",
       "      <td>11</td>\n",
       "      <td>36271</td>\n",
       "      <td>0</td>\n",
       "      <td>1485</td>\n",
       "    </tr>\n",
       "  </tbody>\n",
       "</table>\n",
       "<p>101716 rows × 8 columns</p>\n",
       "</div>"
      ],
      "text/plain": [
       "       Date_reported Country_code      Country WHO_region  New_cases  \\\n",
       "0         2020-01-03           AF  Afghanistan       EMRO          0   \n",
       "1         2020-01-04           AF  Afghanistan       EMRO          0   \n",
       "2         2020-01-05           AF  Afghanistan       EMRO          0   \n",
       "3         2020-01-06           AF  Afghanistan       EMRO          0   \n",
       "4         2020-01-07           AF  Afghanistan       EMRO          0   \n",
       "...              ...          ...          ...        ...        ...   \n",
       "102142    2021-03-04           ZW     Zimbabwe       AFRO         31   \n",
       "102143    2021-03-05           ZW     Zimbabwe       AFRO         44   \n",
       "102144    2021-03-06           ZW     Zimbabwe       AFRO         25   \n",
       "102145    2021-03-07           ZW     Zimbabwe       AFRO         12   \n",
       "102146    2021-03-08           ZW     Zimbabwe       AFRO         11   \n",
       "\n",
       "        Cumulative_cases  New_deaths  Cumulative_deaths  \n",
       "0                      0           0                  0  \n",
       "1                      0           0                  0  \n",
       "2                      0           0                  0  \n",
       "3                      0           0                  0  \n",
       "4                      0           0                  0  \n",
       "...                  ...         ...                ...  \n",
       "102142             36179           6               1478  \n",
       "102143             36223           5               1483  \n",
       "102144             36248           1               1484  \n",
       "102145             36260           1               1485  \n",
       "102146             36271           0               1485  \n",
       "\n",
       "[101716 rows x 8 columns]"
      ]
     },
     "execution_count": 8,
     "metadata": {},
     "output_type": "execute_result"
    }
   ],
   "source": [
    "data = pd.read_csv(DATA_DIR + 'WHO-COVID-19-global-data.csv', ',')\n",
    "data = data[data.columns.drop(list(data.filter(regex='Unnamed')))]\n",
    "# data = data.drop(['Оценка', 'Группа'], 1)\n",
    "data = data.dropna()\n",
    "features_model = FeaturesModel(data, 'html')\n",
    "\n",
    "features_model.raw_df"
   ]
  },
  {
   "cell_type": "code",
   "execution_count": 3,
   "id": "usual-mandate",
   "metadata": {},
   "outputs": [
    {
     "data": {
      "text/html": [
       "<ul><li><div>Содержание дисциплины соответствовало заявленному в программе дисциплины</div></li><li><div>Место дисциплины в программе обучения обосновано</div></li><li><div>Учебная нагрузка дисциплины посильная</div></li><li><div>Уровень нагрузки в ходе обучения равномерный</div></li><li><div>Занятия проводились согласно расписанию</div></li><li><div>Доступ к материалам дисциплины предоставлялся вовремя</div></li><li><div>О заменах и переносах (при наличии таковых) сообщалось заранее в доступной форме</div></li><li><div>Перед изучением дисциплины [были ли у Вас соответствующие теоретические знания]</div></li><li><div>Перед изучением дисциплины [был ли у Вас соответствующий практический опыт]</div></li><li><div>Оцените, пожалуйста, [приблизительный уровень Вашего присутствия на занятиях (в %)]</div></li><li><div>Оцените, пожалуйста, [свою успешность в дисциплине (в баллах)]</div></li><li><div>Вы активно участвовали в аудиторных занятиях?</div></li><li><div>Вы изучали самостоятельно материалы по дисциплине?</div></li><li><div>Вы удовлетворены своим прогрессом в дисциплине?</div></li><li><div>Считаете ли Вы, что дисциплина хорошо структурирована с точки зрения баланса лекций, практик, лабораторных, самостоятельной работы?</div></li><li><div>Считаете ли Вы, что методы обучения стимулировали и увлекали студентов?</div></li><li><div>Считаете ли Вы, что общая атмосфера в аудитории была рабочей и дружественной?</div></li><li><div>Методические и раздаточные материалы соответствуют тематике дисциплины</div></li><li><div>Преподавателем рекомендована бесплатная литература, изложение материалов в литературе доступное и понятное</div></li><li><div>Обеспечение учебными ресурсами в библиотеке соответствует Вашим потребностям</div></li><li><div>Обеспечение вебресурсами соответствует Вашим потребностям</div></li><li><div>Основные идеи и понятия дисциплины излагаются </div></li><li><div>Темп изложения</div></li><li><div>Дисциплина стимулирует Ваш интерес к дальнейшему профессиональному росту</div></li><li><div>Вы понимали на аудиторных занятиях новый материал</div></li><li><div>При изложении материала прослеживались связи [между темами дисциплины]</div></li><li><div>При изложении материала прослеживались связи [между этой и другими дисциплинами программы обучения]</div></li><li><div>Преподаватель динамично реагировал на вопросы и потребности студентов</div></li><li><div>Готовы ли Вы охарактеризовать поведение уравновешенным и отношение к студентам объективным [говоря о преподавателе]</div></li><li><div>Методы оценивания были понятны и обоснованы?</div></li><li><div>Вы получали вовремя результаты оценивания?</div></li><li><div>Давал ли преподаватель полезную обратную связь по результатам оценивания?</div></li><li><div>Методические указания содержали полезные сведения</div></li><li><div>Требуемый объем работ</div></li><li><div>Преподаватель эффективно помогал в решении возникавших проблем</div></li><li><div>Практические/лабораторные задания Вы выполняли</div></li></ul>"
      ],
      "text/plain": [
       "<IPython.core.display.HTML object>"
      ]
     },
     "metadata": {},
     "output_type": "display_data"
    }
   ],
   "source": [
    "display(HTML(features_model.f_features_names()))"
   ]
  },
  {
   "cell_type": "code",
   "execution_count": 4,
   "id": "norman-botswana",
   "metadata": {},
   "outputs": [
    {
     "data": {
      "text/html": [
       "<div style=\"font-size: 20px;\"><div style=\"font-weight: bold;\">Feature </div><div>Содержание дисциплины соответствовало заявленному в программе дисциплины</div><div>Scale: <span style=\"font-style: italic\">Nominal</span></div><div>Observation aggregated data</div><ul>\n",
       "<li>Полностью согласен – 38</li>\n",
       "<li>Согласен – 12</li>\n",
       "<li>Не определился – 1</li>\n",
       "</ul></div><hr>"
      ],
      "text/plain": [
       "<IPython.core.display.HTML object>"
      ]
     },
     "metadata": {},
     "output_type": "display_data"
    }
   ],
   "source": [
    "display(HTML(str(features_model.features[0])))"
   ]
  },
  {
   "cell_type": "code",
   "execution_count": 3,
   "id": "bored-assist",
   "metadata": {},
   "outputs": [
    {
     "data": {
      "text/html": [
       "<div style=\"font-size: 20px;\"><div style=\"font-weight: bold;\">Feature </div><div>Содержание дисциплины соответствовало заявленному в программе дисциплины</div><div>Scale: <span style=\"font-style: italic\">Nominal</span></div><div>Observation aggregated data</div><ul>\n",
       "<li>Полностью согласен – 38</li>\n",
       "<li>Согласен – 12</li>\n",
       "<li>Не определился – 1</li>\n",
       "</ul></div><hr><div style=\"font-size: 20px;\"><div style=\"font-weight: bold;\">Feature </div><div>Место дисциплины в программе обучения обосновано</div><div>Scale: <span style=\"font-style: italic\">Nominal</span></div><div>Observation aggregated data</div><ul>\n",
       "<li>Полностью согласен – 31</li>\n",
       "<li>Согласен – 13</li>\n",
       "<li>Не определился – 7</li>\n",
       "</ul></div><hr><div style=\"font-size: 20px;\"><div style=\"font-weight: bold;\">Feature </div><div>Учебная нагрузка дисциплины посильная</div><div>Scale: <span style=\"font-style: italic\">Nominal</span></div><div>Observation aggregated data</div><ul>\n",
       "<li>Полностью согласен – 38</li>\n",
       "<li>Согласен – 11</li>\n",
       "<li>Не согласен – 1</li>\n",
       "<li>Не определился – 1</li>\n",
       "</ul></div><hr><div style=\"font-size: 20px;\"><div style=\"font-weight: bold;\">Feature </div><div>Уровень нагрузки в ходе обучения равномерный</div><div>Scale: <span style=\"font-style: italic\">Nominal</span></div><div>Observation aggregated data</div><ul>\n",
       "<li>Полностью согласен – 41</li>\n",
       "<li>Согласен – 8</li>\n",
       "<li>Не определился – 2</li>\n",
       "</ul></div><hr><div style=\"font-size: 20px;\"><div style=\"font-weight: bold;\">Feature </div><div>Занятия проводились согласно расписанию</div><div>Scale: <span style=\"font-style: italic\">Nominal</span></div><div>Observation aggregated data</div><ul>\n",
       "<li>Полностью согласен – 42</li>\n",
       "<li>Не определился – 3</li>\n",
       "<li>Согласен – 6</li>\n",
       "</ul></div><hr><div style=\"font-size: 20px;\"><div style=\"font-weight: bold;\">Feature </div><div>Доступ к материалам дисциплины предоставлялся вовремя</div><div>Scale: <span style=\"font-style: italic\">Nominal</span></div><div>Observation aggregated data</div><ul>\n",
       "<li>Полностью согласен – 43</li>\n",
       "<li>Согласен – 8</li>\n",
       "</ul></div><hr><div style=\"font-size: 20px;\"><div style=\"font-weight: bold;\">Feature </div><div>О заменах и переносах (при наличии таковых) сообщалось заранее в доступной форме</div><div>Scale: <span style=\"font-style: italic\">Nominal</span></div><div>Observation aggregated data</div><ul>\n",
       "<li>Полностью согласен – 44</li>\n",
       "<li>Согласен – 5</li>\n",
       "<li>Не определился – 2</li>\n",
       "</ul></div><hr><div style=\"font-size: 20px;\"><div style=\"font-weight: bold;\">Feature </div><div>Перед изучением дисциплины [были ли у Вас соответствующие теоретические знания]</div><div>Scale: <span style=\"font-style: italic\">Nominal</span></div><div>Observation aggregated data</div><ul>\n",
       "<li>Нет – 29</li>\n",
       "<li>Да – 22</li>\n",
       "</ul></div><hr><div style=\"font-size: 20px;\"><div style=\"font-weight: bold;\">Feature </div><div>Перед изучением дисциплины [был ли у Вас соответствующий практический опыт]</div><div>Scale: <span style=\"font-style: italic\">Nominal</span></div><div>Observation aggregated data</div><ul>\n",
       "<li>Нет – 37</li>\n",
       "<li>Да – 14</li>\n",
       "</ul></div><hr><div style=\"font-size: 20px;\"><div style=\"font-weight: bold;\">Feature </div><div>Оцените, пожалуйста, [приблизительный уровень Вашего присутствия на занятиях (в %)]</div><div>Scale: <span style=\"font-style: italic\">Nominal</span></div><div>Observation aggregated data</div><ul>\n",
       "<li>0-30 – 16</li>\n",
       "<li>90-100 – 8</li>\n",
       "<li>60-74 – 5</li>\n",
       "<li>31-59 – 12</li>\n",
       "<li>75-89 – 10</li>\n",
       "</ul></div><hr><div style=\"font-size: 20px;\"><div style=\"font-weight: bold;\">Feature </div><div>Оцените, пожалуйста, [свою успешность в дисциплине (в баллах)]</div><div>Scale: <span style=\"font-style: italic\">Nominal</span></div><div>Observation aggregated data</div><ul>\n",
       "<li>90-100 – 28</li>\n",
       "<li>31-59 – 2</li>\n",
       "<li>60-74 – 5</li>\n",
       "<li>75-89 – 16</li>\n",
       "</ul></div><hr><div style=\"font-size: 20px;\"><div style=\"font-weight: bold;\">Feature </div><div>Вы активно участвовали в аудиторных занятиях?</div><div>Scale: <span style=\"font-style: italic\">Nominal</span></div><div>Observation aggregated data</div><ul>\n",
       "<li>Нет – 22</li>\n",
       "<li>Затрудняюсь ответить – 20</li>\n",
       "<li>Да – 9</li>\n",
       "</ul></div><hr><div style=\"font-size: 20px;\"><div style=\"font-weight: bold;\">Feature </div><div>Вы изучали самостоятельно материалы по дисциплине?</div><div>Scale: <span style=\"font-style: italic\">Nominal</span></div><div>Observation aggregated data</div><ul>\n",
       "<li>Да – 37</li>\n",
       "<li>Затрудняюсь ответить – 6</li>\n",
       "<li>Нет – 8</li>\n",
       "</ul></div><hr><div style=\"font-size: 20px;\"><div style=\"font-weight: bold;\">Feature </div><div>Вы удовлетворены своим прогрессом в дисциплине?</div><div>Scale: <span style=\"font-style: italic\">Nominal</span></div><div>Observation aggregated data</div><ul>\n",
       "<li>Да – 44</li>\n",
       "<li>Затрудняюсь ответить – 6</li>\n",
       "<li>Нет – 1</li>\n",
       "</ul></div><hr><div style=\"font-size: 20px;\"><div style=\"font-weight: bold;\">Feature </div><div>Считаете ли Вы, что дисциплина хорошо структурирована с точки зрения баланса лекций, практик, лабораторных, самостоятельной работы?</div><div>Scale: <span style=\"font-style: italic\">Nominal</span></div><div>Observation aggregated data</div><ul>\n",
       "<li>Да – 49</li>\n",
       "<li>Нет – 1</li>\n",
       "<li>Затрудняюсь ответить – 1</li>\n",
       "</ul></div><hr><div style=\"font-size: 20px;\"><div style=\"font-weight: bold;\">Feature </div><div>Считаете ли Вы, что методы обучения стимулировали и увлекали студентов?</div><div>Scale: <span style=\"font-style: italic\">Nominal</span></div><div>Observation aggregated data</div><ul>\n",
       "<li>Да – 38</li>\n",
       "<li>Затрудняюсь ответить – 9</li>\n",
       "<li>Нет – 3</li>\n",
       "<li>Больше всего стимулировала ответственность перед командой, когда мы делили ответственность за выполнение – 1</li>\n",
       "</ul></div><hr><div style=\"font-size: 20px;\"><div style=\"font-weight: bold;\">Feature </div><div>Считаете ли Вы, что общая атмосфера в аудитории была рабочей и дружественной?</div><div>Scale: <span style=\"font-style: italic\">Nominal</span></div><div>Observation aggregated data</div><ul>\n",
       "<li>Да – 38</li>\n",
       "<li>Затрудняюсь ответить – 8</li>\n",
       "<li>Моя команда не работала – 1</li>\n",
       "<li>На атмосферу очень влияли другие студенты. Особенно мешали те, кому было неинтересно. Но это уже не вина преподавателя. – 1</li>\n",
       "<li>Нет – 1</li>\n",
       "<li>не был в аудитории – 1</li>\n",
       "<li>очень дружественная  – 1</li>\n",
       "</ul></div><hr><div style=\"font-size: 20px;\"><div style=\"font-weight: bold;\">Feature </div><div>Методические и раздаточные материалы соответствуют тематике дисциплины</div><div>Scale: <span style=\"font-style: italic\">Nominal</span></div><div>Observation aggregated data</div><ul>\n",
       "<li>Полностью согласен – 35</li>\n",
       "<li>Не определился – 5</li>\n",
       "<li>Согласен – 11</li>\n",
       "</ul></div><hr><div style=\"font-size: 20px;\"><div style=\"font-weight: bold;\">Feature </div><div>Преподавателем рекомендована бесплатная литература, изложение материалов в литературе доступное и понятное</div><div>Scale: <span style=\"font-style: italic\">Nominal</span></div><div>Observation aggregated data</div><ul>\n",
       "<li>Полностью согласен – 36</li>\n",
       "<li>Не определился – 7</li>\n",
       "<li>Согласен – 8</li>\n",
       "</ul></div><hr><div style=\"font-size: 20px;\"><div style=\"font-weight: bold;\">Feature </div><div>Обеспечение учебными ресурсами в библиотеке соответствует Вашим потребностям</div><div>Scale: <span style=\"font-style: italic\">Nominal</span></div><div>Observation aggregated data</div><ul>\n",
       "<li>Полностью согласен – 22</li>\n",
       "<li>Согласен – 14</li>\n",
       "<li>Не определился – 14</li>\n",
       "<li>Не согласен – 1</li>\n",
       "</ul></div><hr><div style=\"font-size: 20px;\"><div style=\"font-weight: bold;\">Feature </div><div>Обеспечение вебресурсами соответствует Вашим потребностям</div><div>Scale: <span style=\"font-style: italic\">Nominal</span></div><div>Observation aggregated data</div><ul>\n",
       "<li>Полностью согласен – 38</li>\n",
       "<li>Согласен – 9</li>\n",
       "<li>Не определился – 4</li>\n",
       "</ul></div><hr><div style=\"font-size: 20px;\"><div style=\"font-weight: bold;\">Feature </div><div>Основные идеи и понятия дисциплины излагаются </div><div>Scale: <span style=\"font-style: italic\">Nominal</span></div><div>Observation aggregated data</div><ul>\n",
       "<li>вполне доступно – 50</li>\n",
       "<li>слишком сложно – 1</li>\n",
       "</ul></div><hr><div style=\"font-size: 20px;\"><div style=\"font-weight: bold;\">Feature </div><div>Темп изложения</div><div>Scale: <span style=\"font-style: italic\">Nominal</span></div><div>Observation aggregated data</div><ul>\n",
       "<li>приемлемый – 48</li>\n",
       "<li>слишком быстрый – 3</li>\n",
       "</ul></div><hr><div style=\"font-size: 20px;\"><div style=\"font-weight: bold;\">Feature </div><div>Дисциплина стимулирует Ваш интерес к дальнейшему профессиональному росту</div><div>Scale: <span style=\"font-style: italic\">Nominal</span></div><div>Observation aggregated data</div><ul>\n",
       "<li>Да – 38</li>\n",
       "<li>Нет – 2</li>\n",
       "<li>Не вижу связи – 10</li>\n",
       "<li>Не знаю – 1</li>\n",
       "</ul></div><hr><div style=\"font-size: 20px;\"><div style=\"font-weight: bold;\">Feature </div><div>Вы понимали на аудиторных занятиях новый материал</div><div>Scale: <span style=\"font-style: italic\">Nominal</span></div><div>Observation aggregated data</div><ul>\n",
       "<li>Не присутствовал на аудиторных занятиях – 11</li>\n",
       "<li>Да – 38</li>\n",
       "<li>Нет – 1</li>\n",
       "<li>Был на 1 и 2ой лекции. Ответ - да. – 1</li>\n",
       "</ul></div><hr><div style=\"font-size: 20px;\"><div style=\"font-weight: bold;\">Feature </div><div>При изложении материала прослеживались связи [между темами дисциплины]</div><div>Scale: <span style=\"font-style: italic\">Nominal</span></div><div>Observation aggregated data</div><ul>\n",
       "<li>Да, регулярно – 44</li>\n",
       "<li>Весьма эпизодически – 6</li>\n",
       "<li>Нет – 1</li>\n",
       "</ul></div><hr><div style=\"font-size: 20px;\"><div style=\"font-weight: bold;\">Feature </div><div>При изложении материала прослеживались связи [между этой и другими дисциплинами программы обучения]</div><div>Scale: <span style=\"font-style: italic\">Nominal</span></div><div>Observation aggregated data</div><ul>\n",
       "<li>Да, регулярно – 33</li>\n",
       "<li>Весьма эпизодически – 17</li>\n",
       "<li>Нет – 1</li>\n",
       "</ul></div><hr><div style=\"font-size: 20px;\"><div style=\"font-weight: bold;\">Feature </div><div>Преподаватель динамично реагировал на вопросы и потребности студентов</div><div>Scale: <span style=\"font-style: italic\">Nominal</span></div><div>Observation aggregated data</div><ul>\n",
       "<li>Да – 46</li>\n",
       "<li>Затрудняюсь ответить – 5</li>\n",
       "</ul></div><hr><div style=\"font-size: 20px;\"><div style=\"font-weight: bold;\">Feature </div><div>Готовы ли Вы охарактеризовать поведение уравновешенным и отношение к студентам объективным [говоря о преподавателе]</div><div>Scale: <span style=\"font-style: italic\">Nominal</span></div><div>Observation aggregated data</div><ul>\n",
       "<li>Да – 45</li>\n",
       "<li>Нет – 2</li>\n",
       "<li>Воздержусь – 4</li>\n",
       "</ul></div><hr><div style=\"font-size: 20px;\"><div style=\"font-weight: bold;\">Feature </div><div>Методы оценивания были понятны и обоснованы?</div><div>Scale: <span style=\"font-style: italic\">Nominal</span></div><div>Observation aggregated data</div><ul>\n",
       "<li>Да – 43</li>\n",
       "<li>Не всегда – 7</li>\n",
       "<li>Не всегда понятны – 1</li>\n",
       "</ul></div><hr><div style=\"font-size: 20px;\"><div style=\"font-weight: bold;\">Feature </div><div>Вы получали вовремя результаты оценивания?</div><div>Scale: <span style=\"font-style: italic\">Nominal</span></div><div>Observation aggregated data</div><ul>\n",
       "<li>Да – 50</li>\n",
       "<li>Не всегда – 1</li>\n",
       "</ul></div><hr><div style=\"font-size: 20px;\"><div style=\"font-weight: bold;\">Feature </div><div>Давал ли преподаватель полезную обратную связь по результатам оценивания?</div><div>Scale: <span style=\"font-style: italic\">Nominal</span></div><div>Observation aggregated data</div><ul>\n",
       "<li>Да – 36</li>\n",
       "<li>Я не спрашивал – 14</li>\n",
       "<li>Иногда баллы за электронные лабораторные работы были меньше максимальных, но при этом не был дан соответствующий комментарий. При этом в большинстве случаев всё было вполне справедливо – 1</li>\n",
       "</ul></div><hr><div style=\"font-size: 20px;\"><div style=\"font-weight: bold;\">Feature </div><div>Методические указания содержали полезные сведения</div><div>Scale: <span style=\"font-style: italic\">Nominal</span></div><div>Observation aggregated data</div><ul>\n",
       "<li>Однозначно, да – 36</li>\n",
       "<li>Некоторые рекомендации были полезны – 13</li>\n",
       "<li>Зачем читать методичку, если есть работы одногруппников? – 1</li>\n",
       "<li>Нет, время на их чтение потрачено зря – 1</li>\n",
       "</ul></div><hr><div style=\"font-size: 20px;\"><div style=\"font-weight: bold;\">Feature </div><div>Требуемый объем работ</div><div>Scale: <span style=\"font-style: italic\">Nominal</span></div><div>Observation aggregated data</div><ul>\n",
       "<li>посильный – 48</li>\n",
       "<li>непосильный – 1</li>\n",
       "<li>Относительно несложный – 1</li>\n",
       "<li>\"льготный\", выполнялись работы достаточно быстро – 1</li>\n",
       "</ul></div><hr><div style=\"font-size: 20px;\"><div style=\"font-weight: bold;\">Feature </div><div>Преподаватель эффективно помогал в решении возникавших проблем</div><div>Scale: <span style=\"font-style: italic\">Nominal</span></div><div>Observation aggregated data</div><ul>\n",
       "<li>Всегда – 43</li>\n",
       "<li>Иногда – 5</li>\n",
       "<li>не нуждался – 1</li>\n",
       "<li>Проблемы не возникали – 1</li>\n",
       "<li>Не спрашивал – 1</li>\n",
       "</ul></div><hr><div style=\"font-size: 20px;\"><div style=\"font-weight: bold;\">Feature </div><div>Практические/лабораторные задания Вы выполняли</div><div>Scale: <span style=\"font-style: italic\">Nominal</span></div><div>Observation aggregated data</div><ul>\n",
       "<li>с небольшой помощью – 11</li>\n",
       "<li>самостоятельно – 31</li>\n",
       "<li>как команда – 1</li>\n",
       "<li>часто требовалась помощь – 2</li>\n",
       "<li>В команде – 2</li>\n",
       "<li>командой  – 1</li>\n",
       "<li>в команде – 1</li>\n",
       "<li>Командой – 1</li>\n",
       "<li>Совместно с людьми в моей команде – 1</li>\n",
       "</ul></div><hr>"
      ],
      "text/plain": [
       "<IPython.core.display.HTML object>"
      ]
     },
     "metadata": {},
     "output_type": "display_data"
    }
   ],
   "source": [
    "# display(HTML(str(list(map(lambda x: str(x), features_model.features)))))\n",
    "features_list = list(map(lambda x: str(x), features_model.features))\n",
    "features_html = reduce(lambda x, y: x+y, features_list)\n",
    "display(HTML(features_html))"
   ]
  },
  {
   "cell_type": "markdown",
   "id": "classified-contractor",
   "metadata": {},
   "source": [
    "## Self descriptive statistics\n",
    "Describes feature itself, by representing basic statistic metrics for scale. Scale is a "
   ]
  },
  {
   "cell_type": "code",
   "execution_count": 7,
   "id": "analyzed-space",
   "metadata": {
    "scrolled": true
   },
   "outputs": [],
   "source": [
    "from Core.FeaturesScales.DescriptiveStatisticsCalculators.NominalCalculator import NominalCalculator\n",
    "from Core.FeaturesScales.DescriptiveStatisticsCalculators.OrdinalCalculator import OrdinalCalculator\n",
    "from Core.FeaturesScales.DescriptiveStatisticsCalculators.IntervalCalculator import IntervalCalculator\n",
    "\n",
    "def my_calc_mode(self, observation_dict):\n",
    "    print(\"Helllo\")\n",
    "    return {k: v for (k, v) in observation_dict.items() if v == max(observation_dict.values())}\n",
    "\n",
    "NominalCalculator.calc_mode = my_calc_mode\n"
   ]
  },
  {
   "cell_type": "code",
   "execution_count": 13,
   "id": "dramatic-allen",
   "metadata": {
    "scrolled": false
   },
   "outputs": [
    {
     "data": {
      "application/vnd.jupyter.widget-view+json": {
       "model_id": "1010fbdc23614845b90276ca5a8d035e",
       "version_major": 2,
       "version_minor": 0
      },
      "text/plain": [
       "Dropdown(description='Choose feature: ', index=3, layout=Layout(width='100%'), options=('Date_reported', 'Coun…"
      ]
     },
     "metadata": {},
     "output_type": "display_data"
    },
    {
     "data": {
      "text/html": [
       "<div style=\"font-weight:bold\">Mode</div><ul><li>EURO – 26722</li></ul><div style=\"font-weight:bold\">Median</div><ul><li>WPRO – 4.0</li></ul><div style=\"font-weight:bold\">Range</div><ul><li>6.0</li></ul><div style=\"font-weight:bold\">Mean</div><ul><li>4.0</li></ul><div style=\"font-weight:bold\">Variance</div><ul><li>4.667</li></ul><div style=\"font-weight:bold\">Standard Deviation</div><ul><li>2.16</li></ul>"
      ],
      "text/plain": [
       "<IPython.core.display.HTML object>"
      ]
     },
     "metadata": {},
     "output_type": "display_data"
    },
    {
     "data": {
      "image/png": "[encoded data removed]",
      "text/plain": [
       "<Figure size 2520x1008 with 1 Axes>"
      ]
     },
     "metadata": {
      "needs_background": "light"
     },
     "output_type": "display_data"
    }
   ],
   "source": [
    "# print(features_model.features)\n",
    "# display(HTML(features_model.features))\n",
    "features_dropdown = widgets.Dropdown(\n",
    "    options=features_model.raw_features_names(),\n",
    "    value=features_model.raw_features_names()[0],\n",
    "    description='Choose feature: ',\n",
    "    disabled=False,\n",
    "    style={'description_width': 'initial', 'width': '500px'},\n",
    "    layout={'width':'100%'}\n",
    ")\n",
    "def on_change(change):\n",
    "    if change['type'] == 'change' and change['name'] == 'value':\n",
    "        clear_output(wait=True)\n",
    "        display(features_dropdown)\n",
    "        display(HTML(str(features_model[change['new']].f_get_stat_info())))\n",
    "\n",
    "features_dropdown.observe(on_change)\n",
    "display(features_dropdown)\n",
    "display(HTML(features_model.features[0].f_get_stat_info()))"
   ]
  },
  {
   "cell_type": "code",
   "execution_count": 12,
   "id": "coral-swaziland",
   "metadata": {},
   "outputs": [
    {
     "data": {
      "application/vnd.jupyter.widget-view+json": {
       "model_id": "bb93e5678ad044fd8adbb8f8257053ea",
       "version_major": 2,
       "version_minor": 0
      },
      "text/plain": [
       "Dropdown(description='Choose feature: ', index=3, layout=Layout(width='100%'), options=('Date_reported', 'Coun…"
      ]
     },
     "metadata": {},
     "output_type": "display_data"
    },
    {
     "data": {
      "text/plain": [
       "\"Recently changed: ['WHO_region', 'WHO_region']\""
      ]
     },
     "metadata": {},
     "output_type": "display_data"
    },
    {
     "data": {
      "text/html": [
       "<div>Successfully converted WHO_region to <b>interval</b></div>"
      ],
      "text/plain": [
       "<IPython.core.display.HTML object>"
      ]
     },
     "metadata": {},
     "output_type": "display_data"
    }
   ],
   "source": [
    "converter_ui = ConverterUI(features_model)\n",
    "converter_ui.ui()"
   ]
  },
  {
   "cell_type": "code",
   "execution_count": 9,
   "id": "increasing-ranch",
   "metadata": {
    "pycharm": {
     "name": "#%%\n"
    }
   },
   "outputs": [
    {
     "data": {
      "application/vnd.jupyter.widget-view+json": {
       "model_id": "a580a48cb8bc4dc093d29425f9d9c130",
       "version_major": 2,
       "version_minor": 0
      },
      "text/plain": [
       "Dropdown(description='Choose feature 1: ', layout=Layout(width='100%'), options=('Содержание дисциплины соотве…"
      ]
     },
     "metadata": {},
     "output_type": "display_data"
    }
   ],
   "source": [
    "from UI.DependencyUI import DependencyUI\n",
    "DependencyUI(features_model).ui()"
   ]
  },
  {
   "cell_type": "code",
   "execution_count": 14,
   "id": "ruled-noise",
   "metadata": {},
   "outputs": [],
   "source": [
    "from sklearn.cluster import KMeans\n",
    "import matplotlib.pyplot as plt\n",
    "from copy import copy\n",
    "from Core.Clustering.ClusteriseModule import ClusteriseModule\n",
    "\n",
    "def my__init__(self, feature_1, feature_2):\n",
    "        self.feature_1 = feature_1\n",
    "        self.feature_2 = feature_2\n",
    "\n",
    "def clusterise_features(self):\n",
    "    feature_1_encoded_data = self.encode_features(self.feature_1)\n",
    "    feature_2_encoded_data = self.encode_features(self.feature_2)\n",
    "    pairs_data = list()\n",
    "    for i in range(len(feature_1_encoded_data)):\n",
    "        pairs_data.append([feature_1_encoded_data[i], feature_2_encoded_data[i]])\n",
    "    print(pairs_data)\n",
    "    kmeans = KMeans(init='k-means++', max_iter=300, n_init=10, random_state=0).fit(pairs_data)\n",
    "    self.build_plot(kmeans)\n",
    "\n",
    "def build_plot(self, kmeans):\n",
    "    clusters_size = {}\n",
    "    for cluster_label in kmeans.labels_:\n",
    "        clusters_size[cluster_label] = clusters_size.get(cluster_label, 0) + 1\n",
    "    for cluster_label in clusters_size:\n",
    "        plt.scatter(kmeans.cluster_centers_[cluster_label][0],\n",
    "                    kmeans.cluster_centers_[cluster_label][1],\n",
    "                    s=clusters_size[cluster_label] * 125, c='orange', alpha=0.4, linewidth=4)\n",
    "        plt.text(kmeans.cluster_centers_[cluster_label][0],\n",
    "                 kmeans.cluster_centers_[cluster_label][1],\n",
    "                 s=str(clusters_size[cluster_label]), horizontalalignment='center', verticalalignment='center')\n",
    "\n",
    "    x_ticks_list = list(plt.xticks()[0])\n",
    "    y_ticks_list = list(plt.yticks()[0])\n",
    "    new_x_ticks = self.update_ticks_by_indexes(x_ticks_list,\n",
    "                                               list(self.feature_1.aggregated_data.keys()))\n",
    "    new_y_ticks = self.update_ticks_by_indexes(y_ticks_list,\n",
    "                                               list(self.feature_2.aggregated_data.keys()))\n",
    "    plt.xticks(x_ticks_list, new_x_ticks)\n",
    "    plt.yticks(y_ticks_list, new_y_ticks)\n",
    "    plt.xlabel(self.feature_1.name)\n",
    "    plt.ylabel(self.feature_2.name)\n",
    "    plt.figure(figsize=(35, 14))\n",
    "    plt.show()\n",
    "\n",
    "def encode_features(self, feature):\n",
    "    encoding_list = list(feature.aggregated_data.keys())\n",
    "    feature_encoded_data = list(map(lambda x: encoding_list.index(x), feature.data))\n",
    "    return feature_encoded_data\n",
    "\n",
    "def update_ticks_by_indexes(self, ticks_list, additional_values):\n",
    "    \"\"\"\n",
    "    Will convert plot ticks tick_list [0.0, 0.25, 0.5, 0.75, 1.0]\n",
    "    Using indexes and values in additional_values ['Some', 'Text']\n",
    "    To [\"0.0\\nSome\", 0.25, 0.5, 0.75, \"1.0\\nText\"]\n",
    "    \"\"\"\n",
    "    res_ticks = copy(ticks_list)\n",
    "    for i in range(len(additional_values)):\n",
    "        tick_replace_index = ticks_list.index(i)\n",
    "        res_ticks[tick_replace_index] = f\"{ticks_list[tick_replace_index]} or\\n{additional_values[i]}\"\n",
    "    return res_ticks\n",
    "ClusteriseModule.__init__ = my__init__\n",
    "\n",
    "ClusteriseModule.clusterise_features = clusterise_features\n",
    "ClusteriseModule.build_plot = build_plot\n",
    "ClusteriseModule.encode_features = encode_features\n",
    "ClusteriseModule.update_ticks_by_indexes = update_ticks_by_indexes\n"
   ]
  },
  {
   "cell_type": "code",
   "execution_count": 18,
   "id": "permanent-brook",
   "metadata": {
    "pycharm": {
     "name": "#%%\n"
    }
   },
   "outputs": [
    {
     "name": "stdout",
     "output_type": "stream",
     "text": [
      "[[0, 0], [0, 1], [0, 1], [0, 1], [0, 2], [1, 0], [0, 0], [1, 2], [0, 1], [0, 0], [0, 1], [0, 0], [0, 0], [2, 0], [0, 0], [0, 0], [0, 1], [0, 1], [0, 1], [0, 0], [0, 0], [1, 2], [1, 0], [0, 1], [0, 0], [0, 2], [0, 0], [0, 2], [1, 1], [0, 1], [0, 0], [1, 1], [3, 1], [0, 0], [0, 1], [0, 1], [1, 0], [0, 1], [0, 0], [0, 2], [0, 2], [1, 1], [1, 1], [0, 2], [0, 2], [0, 1], [1, 0], [0, 1], [0, 0], [1, 0], [0, 0]]\n"
     ]
    },
    {
     "data": {
      "image/png": "[encoded data removed]",
      "text/plain": [
       "<Figure size 432x288 with 1 Axes>"
      ]
     },
     "metadata": {
      "needs_background": "light"
     },
     "output_type": "display_data"
    },
    {
     "data": {
      "text/plain": [
       "<Figure size 2520x1008 with 0 Axes>"
      ]
     },
     "metadata": {},
     "output_type": "display_data"
    },
    {
     "data": {
      "application/vnd.jupyter.widget-view+json": {
       "model_id": "0f3721a9bf624bc2947623c732939dc9",
       "version_major": 2,
       "version_minor": 0
      },
      "text/plain": [
       "Dropdown(description='Choose feature 1: ', layout=Layout(width='100%'), options=('Содержание дисциплины соотве…"
      ]
     },
     "metadata": {},
     "output_type": "display_data"
    }
   ],
   "source": [
    "from UI.ClusteriseUI import ClusteriseUI\n",
    "ClusteriseUI(features_model).ui()"
   ]
  },
  {
   "cell_type": "code",
   "execution_count": 11,
   "id": "latin-remark",
   "metadata": {},
   "outputs": [
    {
     "data": {
      "application/vnd.jupyter.widget-view+json": {
       "model_id": "aee07edf632f458c82aa077cfeb88c24",
       "version_major": 2,
       "version_minor": 0
      },
      "text/plain": [
       "Dropdown(description='Task:', options=('Addition', 'Multiplication', 'Subtraction', 'Division'), value='Additi…"
      ]
     },
     "metadata": {},
     "output_type": "display_data"
    }
   ],
   "source": [
    "w = widgets.Dropdown(\n",
    "    options=['Addition', 'Multiplication', 'Subtraction', 'Division'],\n",
    "    value='Addition',\n",
    "    description='Task:',\n",
    ")\n",
    "def on_change(change):\n",
    "    print(f\"type {change['type']} name: {change['name']}\")\n",
    "    if change['type'] == 'change' and change['name'] == 'value':\n",
    "        print(\"changed to %s\" % change['new'])\n",
    "\n",
    "w.observe(on_change)\n",
    "\n",
    "display(w)"
   ]
  }
 ],
 "metadata": {
  "kernelspec": {
   "display_name": "Python 3",
   "language": "python",
   "name": "python3"
  },
  "language_info": {
   "codemirror_mode": {
    "name": "ipython",
    "version": 3
   },
   "file_extension": ".py",
   "mimetype": "text/x-python",
   "name": "python",
   "nbconvert_exporter": "python",
   "pygments_lexer": "ipython3",
   "version": "3.9.0"
  }
 },
 "nbformat": 4,
 "nbformat_minor": 5
}
